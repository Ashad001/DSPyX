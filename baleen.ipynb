{
 "cells": [
  {
   "cell_type": "code",
   "execution_count": 2,
   "metadata": {},
   "outputs": [
    {
     "name": "stderr",
     "output_type": "stream",
     "text": [
      "d:\\ThirdSummer\\Something\\venv\\Lib\\site-packages\\tqdm\\auto.py:21: TqdmWarning: IProgress not found. Please update jupyter and ipywidgets. See https://ipywidgets.readthedocs.io/en/stable/user_install.html\n",
      "  from .autonotebook import tqdm as notebook_tqdm\n"
     ]
    }
   ],
   "source": [
    "import os\n",
    "import dspy\n",
    "from dsp.utils import deduplicate\n",
    "from dotenv import load_dotenv\n",
    "load_dotenv()\n",
    "\n",
    "turbo = dspy.OpenAI(model=\"gpt-3.5-turbo\", api_key=os.getenv(\"OPENAI_API_KEY\"))\n",
    "dspy.settings.configure(lm=turbo)"
   ]
  },
  {
   "cell_type": "code",
   "execution_count": 3,
   "metadata": {},
   "outputs": [],
   "source": [
    "from dspy import ColBERTv2\n",
    "\n",
    "colber_wiki = ColBERTv2(url=\"http://20.102.90.50:2017/wiki17_abstracts\")\n",
    "dspy.settings.configure(lm=turbo, rm=colber_wiki)"
   ]
  },
  {
   "cell_type": "code",
   "execution_count": 16,
   "metadata": {},
   "outputs": [
    {
     "name": "stdout",
     "output_type": "stream",
     "text": [
      "Acid mine drainage | Acid mine drainage, acid and metalliferous drainage (AMD), or acid rock drainage (ARD) is the outflow of acidic water from metal mines or coal mines.\n",
      "Acidophiles in acid mine drainage | The outflow of acidic liquids and other pollutants from mines is often catalysed by acid-loving microorganisms; these are the acidophiles in acid mine drainage.\n",
      "Abandoned mine drainage | Abandoned mine drainage (also known as AMD) is a form of water pollution involving water that has been polluted by contact with mines, typically coal mines. Although it is sometimes called \"acid mine drainage\", not all abandoned mine drainage is acidic.\n",
      "Passive treatment system | A passive treatment system is a method for removing metals from acid mine drainage. There are several types of passive treatment systems, each of which may be used on their own or in combination to treat effluents. The type of system selected is dependent upon the chemistry of the acid mine drainage and the flow of the discharge, as well as State and Federal regulations. Passive treatment systems do not require power and are less expensive than active treatment systems. They also require less maintenance, which is an advantage in remote locations.\n",
      "PADRE | The Partnership for Acid Drainage Remediation (PADRE) is a European-based scientific-technical association dedicated to acid mine water related topics.\n"
     ]
    }
   ],
   "source": [
    "question = \"Acid Mine Drainage\"\n",
    "retriever = dspy.Retrieve(k=5)\n",
    "raw = retriever(question)\n",
    "\n",
    "for passage in raw.passages:\n",
    "    print(passage)\n",
    "\n",
    "\n",
    "rqa = dspy.Predict(\"question, context -> answer\")\n",
    "response = rqa(question=question, context=raw.passages)"
   ]
  },
  {
   "cell_type": "code",
   "execution_count": 4,
   "metadata": {},
   "outputs": [
    {
     "name": "stdout",
     "output_type": "stream",
     "text": [
      "Question: What are types of skins?\n",
      "Context:\n",
      "[1] «Human skin | The human skin is the outer covering of the body. In humans, it is the largest organ of the integumentary system. The skin has up to seven layers of ectodermal tissue and guards the underlying muscles, bones, ligaments and internal organs. Human skin is similar to that of most other mammals. Though nearly all human skin is covered with hair follicles, it can appear hairless. There are two general types of skin, hairy and glabrous skin (hairless). The adjective cutaneous literally means \"of the skin\" (from Latin \"cutis\", skin).»\n",
      "[2] «Baumann Skin Types | The Baumann\n"
     ]
    }
   ],
   "source": [
    "print(response.answer)"
   ]
  },
  {
   "cell_type": "code",
   "execution_count": 41,
   "metadata": {},
   "outputs": [],
   "source": [
    "question = \"Who played the role of Barry Allen in the 2014 TV series The Flash?\"\n",
    "retriever = dspy.Retrieve(k=2)\n",
    "raw = retriever(question)\n",
    "\n",
    "\n",
    "rqa = dspy.Predict(\"question, context -> answer\")\n",
    "response = rqa(question=question, context=raw.passages)"
   ]
  },
  {
   "cell_type": "code",
   "execution_count": 42,
   "metadata": {},
   "outputs": [
    {
     "name": "stdout",
     "output_type": "stream",
     "text": [
      "Question: Who played the role of Barry Allen in the 2014 TV series The Flash?\n",
      "Context:\n",
      "[1] «The Flash (2014 TV series) | The Flash is an American television series developed by Greg Berlanti, Andrew Kreisberg and Geoff Johns, airing on The CW. It is based on the DC Comics character Barry Allen / Flash, a costumed superhero crime-fighter with the power to move at superhuman speeds. It is a spin-off from \"Arrow\", existing in the same fictional universe. The series follows Allen, portrayed by Grant Gustin, a crime scene investigator who gains super-human speed, which he uses to fight criminals, including others who have also gained superhuman abilities.»\n",
      "[2]\n"
     ]
    }
   ],
   "source": [
    "print(response.answer)"
   ]
  },
  {
   "cell_type": "code",
   "execution_count": 29,
   "metadata": {},
   "outputs": [],
   "source": [
    "class GenerateQuery(dspy.Signature):\n",
    "    \"\"\" Generate a search query input question \"\"\"\n",
    "    context = dspy.InputField(desc=\"may contain relevant fact for the question\")\n",
    "    question: str = dspy.InputField()\n",
    "    query = dspy.OutputField()\n",
    "\n",
    "class GenerateResponse(dspy.Signature):\n",
    "    \"\"\" Answer question with short factual response \"\"\"\n",
    "    context = dspy.InputField(desc=\"may contain relevant fact for the question\")\n",
    "    question: str = dspy.InputField()\n",
    "    response = dspy.OutputField(desc=\"short factual response; 1-5 words\")\n",
    "\n",
    "class MultiHop(dspy.Module):\n",
    "    def __init__(self, k_passages=3, m_hops=3):\n",
    "        super().__init__()\n",
    "        \n",
    "        self.k_passages = k_passages\n",
    "        self.m_hops = m_hops\n",
    "        self.generate_query = dspy.ChainOfThought(GenerateQuery)\n",
    "        self.retrieve = dspy.Retrieve(k=self.k_passages)\n",
    "        self.generate_response = dspy.ChainOfThought(GenerateResponse)\n",
    "        \n",
    "    def forward(self, question):\n",
    "        context = []\n",
    "        for hop in range(self.m_hops):    \n",
    "            query_res = self.generate_query(context=context, question=question)\n",
    "            query  = query_res.query\n",
    "            passages = self.retrieve(query).passages\n",
    "            context = deduplicate(context + passages)\n",
    "            \n",
    "        response = self.generate_response(question=question, context=passages)\n",
    "        return dspy.Prediction(context=context, response=response.response)    \n",
    "            \n",
    "    "
   ]
  },
  {
   "cell_type": "code",
   "execution_count": 30,
   "metadata": {},
   "outputs": [],
   "source": [
    "question = \"Who played the role of Barry Allen in the 2014 TV series The Flash?\"\n",
    "module = MultiHop()\n",
    "output = module(question=question)\n"
   ]
  },
  {
   "cell_type": "code",
   "execution_count": 31,
   "metadata": {},
   "outputs": [
    {
     "name": "stdout",
     "output_type": "stream",
     "text": [
      "Context: \n"
     ]
    },
    {
     "data": {
      "text/html": [
       "<pre style=\"white-space:pre;overflow-x:auto;line-height:normal;font-family:Menlo,'DejaVu Sans Mono',consolas,'Courier New',monospace\">The Flash <span style=\"font-weight: bold\">(</span><span style=\"color: #008080; text-decoration-color: #008080; font-weight: bold\">2014</span> TV series<span style=\"font-weight: bold\">)</span> | The Flash is an American television series developed by Greg Berlanti, Andrew \n",
       "Kreisberg and Geoff Johns, airing on The CW. It is based on the DC Comics character Barry Allen <span style=\"color: #800080; text-decoration-color: #800080\">/</span> Flash, a costumed\n",
       "superhero crime-fighter with the power to move at superhuman speeds. It is a spin-off from <span style=\"color: #008000; text-decoration-color: #008000\">\"Arrow\"</span>, existing in the\n",
       "same fictional universe. The series follows Allen, portrayed by Grant Gustin, a crime scene investigator who gains \n",
       "super-human speed, which he uses to fight criminals, including others who have also gained superhuman abilities.\n",
       "</pre>\n"
      ],
      "text/plain": [
       "The Flash \u001b[1m(\u001b[0m\u001b[1;36m2014\u001b[0m TV series\u001b[1m)\u001b[0m | The Flash is an American television series developed by Greg Berlanti, Andrew \n",
       "Kreisberg and Geoff Johns, airing on The CW. It is based on the DC Comics character Barry Allen \u001b[35m/\u001b[0m Flash, a costumed\n",
       "superhero crime-fighter with the power to move at superhuman speeds. It is a spin-off from \u001b[32m\"Arrow\"\u001b[0m, existing in the\n",
       "same fictional universe. The series follows Allen, portrayed by Grant Gustin, a crime scene investigator who gains \n",
       "super-human speed, which he uses to fight criminals, including others who have also gained superhuman abilities.\n"
      ]
     },
     "metadata": {},
     "output_type": "display_data"
    },
    {
     "data": {
      "text/html": [
       "<pre style=\"white-space:pre;overflow-x:auto;line-height:normal;font-family:Menlo,'DejaVu Sans Mono',consolas,'Courier New',monospace\">List of The Flash characters | <span style=\"color: #008000; text-decoration-color: #008000\">\"The Flash\"</span> is an American television series developed by writer-producers Greg \n",
       "Berlanti, Andrew Kreisberg and Geoff Johns, based on the DC Comics character the Flash. The series premiered in the\n",
       "United States on October <span style=\"color: #008080; text-decoration-color: #008080; font-weight: bold\">7</span>, <span style=\"color: #008080; text-decoration-color: #008080; font-weight: bold\">2014</span>, on The CW television network. It is a spin-off from <span style=\"color: #008000; text-decoration-color: #008000\">\"Arrow\"</span>, a show in the same \n",
       "universe. The first season follows police forensic investigator Barry Allen <span style=\"font-weight: bold\">(</span>Grant Gustin<span style=\"font-weight: bold\">)</span>, who develops \n",
       "super-speed after he is struck by lightning. In his attempt to learn about his powers and how to use them for good,\n",
       "he is assisted by S.T.A.R. Labs' Dr. Caitlin Snow <span style=\"font-weight: bold\">(</span>Danielle Panabaker<span style=\"font-weight: bold\">)</span>, Cisco Ramon <span style=\"font-weight: bold\">(</span>Carlos Valdes<span style=\"font-weight: bold\">)</span> and Dr. \n",
       "Harrison Wells <span style=\"font-weight: bold\">(</span>Tom Cavanagh<span style=\"font-weight: bold\">)</span>. Barry also tries to solve the murder of his mother <span style=\"font-weight: bold\">(</span>Michelle Harrison<span style=\"font-weight: bold\">)</span> by a \n",
       "superhuman attacker <span style=\"font-weight: bold\">(</span>Matt Letscher<span style=\"font-weight: bold\">)</span> when he was eleven. The murder investigation unjustly imprisoned his father \n",
       "<span style=\"font-weight: bold\">(</span>John Wesley Shipp<span style=\"font-weight: bold\">)</span>, leaving detective Joe West <span style=\"font-weight: bold\">(</span>Jesse L. Martin<span style=\"font-weight: bold\">)</span>, father of his best friend, Iris <span style=\"font-weight: bold\">(</span>Candice \n",
       "Patton<span style=\"font-weight: bold\">)</span>, to take in the young Barry. The memory of his mother's murder and his father's framing and later killing \n",
       "motivates Barry to put his personal needs aside and use his powers to fight those who would hurt the innocent, \n",
       "shaping him into the Flash.\n",
       "</pre>\n"
      ],
      "text/plain": [
       "List of The Flash characters | \u001b[32m\"The Flash\"\u001b[0m is an American television series developed by writer-producers Greg \n",
       "Berlanti, Andrew Kreisberg and Geoff Johns, based on the DC Comics character the Flash. The series premiered in the\n",
       "United States on October \u001b[1;36m7\u001b[0m, \u001b[1;36m2014\u001b[0m, on The CW television network. It is a spin-off from \u001b[32m\"Arrow\"\u001b[0m, a show in the same \n",
       "universe. The first season follows police forensic investigator Barry Allen \u001b[1m(\u001b[0mGrant Gustin\u001b[1m)\u001b[0m, who develops \n",
       "super-speed after he is struck by lightning. In his attempt to learn about his powers and how to use them for good,\n",
       "he is assisted by S.T.A.R. Labs' Dr. Caitlin Snow \u001b[1m(\u001b[0mDanielle Panabaker\u001b[1m)\u001b[0m, Cisco Ramon \u001b[1m(\u001b[0mCarlos Valdes\u001b[1m)\u001b[0m and Dr. \n",
       "Harrison Wells \u001b[1m(\u001b[0mTom Cavanagh\u001b[1m)\u001b[0m. Barry also tries to solve the murder of his mother \u001b[1m(\u001b[0mMichelle Harrison\u001b[1m)\u001b[0m by a \n",
       "superhuman attacker \u001b[1m(\u001b[0mMatt Letscher\u001b[1m)\u001b[0m when he was eleven. The murder investigation unjustly imprisoned his father \n",
       "\u001b[1m(\u001b[0mJohn Wesley Shipp\u001b[1m)\u001b[0m, leaving detective Joe West \u001b[1m(\u001b[0mJesse L. Martin\u001b[1m)\u001b[0m, father of his best friend, Iris \u001b[1m(\u001b[0mCandice \n",
       "Patton\u001b[1m)\u001b[0m, to take in the young Barry. The memory of his mother's murder and his father's framing and later killing \n",
       "motivates Barry to put his personal needs aside and use his powers to fight those who would hurt the innocent, \n",
       "shaping him into the Flash.\n"
      ]
     },
     "metadata": {},
     "output_type": "display_data"
    },
    {
     "data": {
      "text/html": [
       "<pre style=\"white-space:pre;overflow-x:auto;line-height:normal;font-family:Menlo,'DejaVu Sans Mono',consolas,'Courier New',monospace\">Grant Gustin | Thomas Grant Gustin <span style=\"font-weight: bold\">(</span>born January <span style=\"color: #008080; text-decoration-color: #008080; font-weight: bold\">14</span>, <span style=\"color: #008080; text-decoration-color: #008080; font-weight: bold\">1990</span><span style=\"font-weight: bold\">)</span> is an American actor and singer. He is known for his \n",
       "role as Barry Allen <span style=\"color: #800080; text-decoration-color: #800080\">/</span> the Flash <span style=\"font-weight: bold\">(</span>based on the DC Comics character of the same name<span style=\"font-weight: bold\">)</span> on the CW series <span style=\"color: #008000; text-decoration-color: #008000\">\"The Flash\"</span> \n",
       "and <span style=\"color: #008000; text-decoration-color: #008000\">\"Arrow\"</span>, both in the Arrowverse television franchise, and his role as Sebastian Smythe on the Fox series \n",
       "<span style=\"color: #008000; text-decoration-color: #008000\">\"Glee\"</span>.\n",
       "</pre>\n"
      ],
      "text/plain": [
       "Grant Gustin | Thomas Grant Gustin \u001b[1m(\u001b[0mborn January \u001b[1;36m14\u001b[0m, \u001b[1;36m1990\u001b[0m\u001b[1m)\u001b[0m is an American actor and singer. He is known for his \n",
       "role as Barry Allen \u001b[35m/\u001b[0m the Flash \u001b[1m(\u001b[0mbased on the DC Comics character of the same name\u001b[1m)\u001b[0m on the CW series \u001b[32m\"The Flash\"\u001b[0m \n",
       "and \u001b[32m\"Arrow\"\u001b[0m, both in the Arrowverse television franchise, and his role as Sebastian Smythe on the Fox series \n",
       "\u001b[32m\"Glee\"\u001b[0m.\n"
      ]
     },
     "metadata": {},
     "output_type": "display_data"
    },
    {
     "name": "stdout",
     "output_type": "stream",
     "text": [
      "\n",
      "Response: \n"
     ]
    },
    {
     "data": {
      "text/html": [
       "<pre style=\"white-space:pre;overflow-x:auto;line-height:normal;font-family:Menlo,'DejaVu Sans Mono',consolas,'Courier New',monospace\">Grant Gustin\n",
       "</pre>\n"
      ],
      "text/plain": [
       "Grant Gustin\n"
      ]
     },
     "metadata": {},
     "output_type": "display_data"
    }
   ],
   "source": [
    "from rich import print as rprint\n",
    "\n",
    "print(\"Context: \")\n",
    "_ = [rprint(p) for p in output.context]\n",
    "\n",
    "print(\"\\nResponse: \")\n",
    "rprint(output.response)"
   ]
  },
  {
   "cell_type": "code",
   "execution_count": null,
   "metadata": {},
   "outputs": [],
   "source": []
  }
 ],
 "metadata": {
  "kernelspec": {
   "display_name": "venv",
   "language": "python",
   "name": "python3"
  },
  "language_info": {
   "codemirror_mode": {
    "name": "ipython",
    "version": 3
   },
   "file_extension": ".py",
   "mimetype": "text/x-python",
   "name": "python",
   "nbconvert_exporter": "python",
   "pygments_lexer": "ipython3",
   "version": "3.12.3"
  }
 },
 "nbformat": 4,
 "nbformat_minor": 2
}
