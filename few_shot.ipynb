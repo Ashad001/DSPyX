{
 "cells": [
  {
   "cell_type": "code",
   "execution_count": 15,
   "metadata": {},
   "outputs": [
    {
     "name": "stdout",
     "output_type": "stream",
     "text": [
      "(133, 2)\n",
      "(57, 2)\n"
     ]
    }
   ],
   "source": [
    "import os\n",
    "import dspy\n",
    "import random\n",
    "import pandas as pd \n",
    "import ast\n",
    "from dotenv import load_dotenv\n",
    "load_dotenv()\n",
    "\n",
    "def get_data(test_size=0.2):\n",
    "    data = pd.read_csv('./input_data/skin_qa.csv')\n",
    "\n",
    "    data = data.dropna()\n",
    "    data = data.drop_duplicates()\n",
    "    data['question'] = data['question'].apply(lambda x: x.lower())\n",
    "    data['answer'] = data['answer'].apply(lambda x: x.lower())\n",
    "    \n",
    "    data = data.sample(frac=1, random_state=42).reset_index(drop=True)\n",
    "    test_size = int(test_size * len(data))\n",
    "    test_data = data[:test_size]\n",
    "    train_data = data[test_size:]\n",
    "    return train_data, test_data\n",
    "\n",
    "train_data, test_data = get_data(test_size=0.3)\n",
    "\n",
    "print(train_data.shape) \n",
    "print(test_data.shape)"
   ]
  },
  {
   "cell_type": "code",
   "execution_count": 12,
   "metadata": {},
   "outputs": [],
   "source": [
    "train_set = [dspy.Example(question=q, answer=a).with_inputs(\"question\") for q, a in zip(train_data['question'], train_data['answer'])]\n",
    "test_set = [dspy.Example(question=q, answer=a).with_inputs(\"question\") for q, a in zip(test_data['question'], test_data['answer'])]"
   ]
  },
  {
   "cell_type": "code",
   "execution_count": 13,
   "metadata": {},
   "outputs": [
    {
     "name": "stdout",
     "output_type": "stream",
     "text": [
      "Example({'question': 'which skin type might have an oily forehead but dry cheeks?', 'answer': 'combination'}) (input_keys={'question'})\n"
     ]
    }
   ],
   "source": [
    "print(train_set[0])"
   ]
  },
  {
   "cell_type": "code",
   "execution_count": 14,
   "metadata": {},
   "outputs": [],
   "source": [
    "class ReferenceAnswer(dspy.Signature):\n",
    "    \"\"\" Choose the skin type that best describes the user's skin type \"\"\"\n",
    "    question = dspy.InputField()\n",
    "    answer = dspy.OutputField(desc=\"Choose from the following options: Normal, Oily, Dry, Combination, Sensitive\")\n",
    "    \n",
    "class PredictModel(dspy.Module):\n",
    "    def __init__(self):\n",
    "        self.predict = dspy.ChainOfThought(ReferenceAnswer)\n",
    "        \n",
    "    def forward(self, question):\n",
    "        return self.predict(question=question)"
   ]
  },
  {
   "cell_type": "code",
   "execution_count": 21,
   "metadata": {},
   "outputs": [],
   "source": [
    "turbo = dspy.OpenAI(api_key=os.getenv('OPENAI_API_KEY'), model=\"gpt-4o-mini\")\n",
    "mix = dspy.GROQ(api_key=os.getenv('GROQ_API_KEY'), model=\"mixtral-8x7b-32768\")"
   ]
  },
  {
   "cell_type": "code",
   "execution_count": 26,
   "metadata": {},
   "outputs": [],
   "source": [
    "dspy.settings.configure(lm=turbo, trace=[])\n",
    "predict = PredictModel()\n"
   ]
  },
  {
   "cell_type": "code",
   "execution_count": 27,
   "metadata": {},
   "outputs": [],
   "source": [
    "from dspy.evaluate import Evaluate\n",
    "from dspy.evaluate.metrics import answer_exact_match\n",
    "\n",
    "evaluate_prg = Evaluate(\n",
    "    devset=test_set,\n",
    "    metric=answer_exact_match,\n",
    "    num_threads=4,\n",
    "    display_progress=True,\n",
    "    display_table=10,\n",
    "    return_outputs=True\n",
    ")"
   ]
  },
  {
   "cell_type": "code",
   "execution_count": 28,
   "metadata": {},
   "outputs": [
    {
     "name": "stderr",
     "output_type": "stream",
     "text": [
      "  0%|          | 0/57 [00:00<?, ?it/s]"
     ]
    },
    {
     "name": "stderr",
     "output_type": "stream",
     "text": [
      "Average Metric: 4 / 57  (7.0): 100%|██████████| 57/57 [00:30<00:00,  1.85it/s] \n"
     ]
    },
    {
     "data": {
      "text/html": [
       "<style type=\"text/css\">\n",
       "#T_e7702 th {\n",
       "  text-align: left;\n",
       "}\n",
       "#T_e7702 td {\n",
       "  text-align: left;\n",
       "}\n",
       "#T_e7702_row0_col0, #T_e7702_row0_col1, #T_e7702_row0_col2, #T_e7702_row0_col3, #T_e7702_row0_col4, #T_e7702_row1_col0, #T_e7702_row1_col1, #T_e7702_row1_col2, #T_e7702_row1_col3, #T_e7702_row1_col4, #T_e7702_row2_col0, #T_e7702_row2_col1, #T_e7702_row2_col2, #T_e7702_row2_col3, #T_e7702_row2_col4, #T_e7702_row3_col0, #T_e7702_row3_col1, #T_e7702_row3_col2, #T_e7702_row3_col3, #T_e7702_row3_col4, #T_e7702_row4_col0, #T_e7702_row4_col1, #T_e7702_row4_col2, #T_e7702_row4_col3, #T_e7702_row4_col4, #T_e7702_row5_col0, #T_e7702_row5_col1, #T_e7702_row5_col2, #T_e7702_row5_col3, #T_e7702_row5_col4, #T_e7702_row6_col0, #T_e7702_row6_col1, #T_e7702_row6_col2, #T_e7702_row6_col3, #T_e7702_row6_col4, #T_e7702_row7_col0, #T_e7702_row7_col1, #T_e7702_row7_col2, #T_e7702_row7_col3, #T_e7702_row7_col4, #T_e7702_row8_col0, #T_e7702_row8_col1, #T_e7702_row8_col2, #T_e7702_row8_col3, #T_e7702_row8_col4, #T_e7702_row9_col0, #T_e7702_row9_col1, #T_e7702_row9_col2, #T_e7702_row9_col3, #T_e7702_row9_col4 {\n",
       "  text-align: left;\n",
       "  white-space: pre-wrap;\n",
       "  word-wrap: break-word;\n",
       "  max-width: 400px;\n",
       "}\n",
       "</style>\n",
       "<table id=\"T_e7702\">\n",
       "  <thead>\n",
       "    <tr>\n",
       "      <th class=\"blank level0\" >&nbsp;</th>\n",
       "      <th id=\"T_e7702_level0_col0\" class=\"col_heading level0 col0\" >question</th>\n",
       "      <th id=\"T_e7702_level0_col1\" class=\"col_heading level0 col1\" >example_answer</th>\n",
       "      <th id=\"T_e7702_level0_col2\" class=\"col_heading level0 col2\" >rationale</th>\n",
       "      <th id=\"T_e7702_level0_col3\" class=\"col_heading level0 col3\" >pred_answer</th>\n",
       "      <th id=\"T_e7702_level0_col4\" class=\"col_heading level0 col4\" >answer_exact_match</th>\n",
       "    </tr>\n",
       "  </thead>\n",
       "  <tbody>\n",
       "    <tr>\n",
       "      <th id=\"T_e7702_level0_row0\" class=\"row_heading level0 row0\" >0</th>\n",
       "      <td id=\"T_e7702_row0_col0\" class=\"data row0 col0\" >what skin type often experiences stinging with acid exfoliants?</td>\n",
       "      <td id=\"T_e7702_row0_col1\" class=\"data row0 col1\" >sensitive</td>\n",
       "      <td id=\"T_e7702_row0_col2\" class=\"data row0 col2\" >determine the skin type that is most likely to react negatively to acid exfoliants. Sensitive skin is characterized by a heightened reaction to various products,...</td>\n",
       "      <td id=\"T_e7702_row0_col3\" class=\"data row0 col3\" >Sensitive</td>\n",
       "      <td id=\"T_e7702_row0_col4\" class=\"data row0 col4\" >✔️ [True]</td>\n",
       "    </tr>\n",
       "    <tr>\n",
       "      <th id=\"T_e7702_level0_row1\" class=\"row_heading level0 row1\" >1</th>\n",
       "      <td id=\"T_e7702_row1_col0\" class=\"data row1 col0\" >which skin type usually doesn't experience extreme reactions to new products?</td>\n",
       "      <td id=\"T_e7702_row1_col1\" class=\"data row1 col1\" >normal</td>\n",
       "      <td id=\"T_e7702_row1_col2\" class=\"data row1 col2\" >determine the skin type that typically has a balanced reaction to new products. We know that sensitive skin often reacts negatively to new products, while...</td>\n",
       "      <td id=\"T_e7702_row1_col3\" class=\"data row1 col3\" >Choose from the following options: Normal, Oily, Dry, Combination, Sensitive.</td>\n",
       "      <td id=\"T_e7702_row1_col4\" class=\"data row1 col4\" >False</td>\n",
       "    </tr>\n",
       "    <tr>\n",
       "      <th id=\"T_e7702_level0_row2\" class=\"row_heading level0 row2\" >2</th>\n",
       "      <td id=\"T_e7702_row2_col0\" class=\"data row2 col0\" >what skin type is most likely to react to sheet masks?</td>\n",
       "      <td id=\"T_e7702_row2_col1\" class=\"data row2 col1\" >sensitive</td>\n",
       "      <td id=\"T_e7702_row2_col2\" class=\"data row2 col2\" >determine which skin type is most prone to reactions from products like sheet masks. We know that sensitive skin is characterized by a tendency to...</td>\n",
       "      <td id=\"T_e7702_row2_col3\" class=\"data row2 col3\" >Choose from the following options: Normal, Oily, Dry, Combination, Sensitive. Sensitive</td>\n",
       "      <td id=\"T_e7702_row2_col4\" class=\"data row2 col4\" >False</td>\n",
       "    </tr>\n",
       "    <tr>\n",
       "      <th id=\"T_e7702_level0_row3\" class=\"row_heading level0 row3\" >3</th>\n",
       "      <td id=\"T_e7702_row3_col0\" class=\"data row3 col0\" >what skin type is most likely to react to retinol products?</td>\n",
       "      <td id=\"T_e7702_row3_col1\" class=\"data row3 col1\" >sensitive</td>\n",
       "      <td id=\"T_e7702_row3_col2\" class=\"data row3 col2\" >determine which skin type is most prone to reactions from retinol. Retinol is a potent ingredient that can cause irritation, redness, and peeling, especially in...</td>\n",
       "      <td id=\"T_e7702_row3_col3\" class=\"data row3 col3\" >Choose from the following options: Normal, Oily, Dry, Combination, Sensitive</td>\n",
       "      <td id=\"T_e7702_row3_col4\" class=\"data row3 col4\" >False</td>\n",
       "    </tr>\n",
       "    <tr>\n",
       "      <th id=\"T_e7702_level0_row4\" class=\"row_heading level0 row4\" >4</th>\n",
       "      <td id=\"T_e7702_row4_col0\" class=\"data row4 col0\" >what skin type often benefits from using products with squalane?</td>\n",
       "      <td id=\"T_e7702_row4_col1\" class=\"data row4 col1\" >dry</td>\n",
       "      <td id=\"T_e7702_row4_col2\" class=\"data row4 col2\" >determine which skin type would benefit from squalane. Squalane is a lightweight oil that is known for its moisturizing properties. It helps to hydrate the...</td>\n",
       "      <td id=\"T_e7702_row4_col3\" class=\"data row4 col3\" >Choose from the following options: Normal, Oily, Dry, Combination, Sensitive.</td>\n",
       "      <td id=\"T_e7702_row4_col4\" class=\"data row4 col4\" >False</td>\n",
       "    </tr>\n",
       "    <tr>\n",
       "      <th id=\"T_e7702_level0_row5\" class=\"row_heading level0 row5\" >5</th>\n",
       "      <td id=\"T_e7702_row5_col0\" class=\"data row5 col0\" >what skin type is most likely to react to fragrances in skincare products?</td>\n",
       "      <td id=\"T_e7702_row5_col1\" class=\"data row5 col1\" >sensitive</td>\n",
       "      <td id=\"T_e7702_row5_col2\" class=\"data row5 col2\" >identify the skin type that is prone to reactions. Sensitive skin is characterized by its tendency to react negatively to various stimuli, including fragrances, which...</td>\n",
       "      <td id=\"T_e7702_row5_col3\" class=\"data row5 col3\" >Choose from the following options: Normal, Oily, Dry, Combination, Sensitive</td>\n",
       "      <td id=\"T_e7702_row5_col4\" class=\"data row5 col4\" >False</td>\n",
       "    </tr>\n",
       "    <tr>\n",
       "      <th id=\"T_e7702_level0_row6\" class=\"row_heading level0 row6\" >6</th>\n",
       "      <td id=\"T_e7702_row6_col0\" class=\"data row6 col0\" >what skin type often feels rough or scaly to the touch?</td>\n",
       "      <td id=\"T_e7702_row6_col1\" class=\"data row6 col1\" >dry</td>\n",
       "      <td id=\"T_e7702_row6_col2\" class=\"data row6 col2\" >determine the skin type that is characterized by a rough or scaly texture. Typically, skin that feels rough or scaly is lacking moisture and may...</td>\n",
       "      <td id=\"T_e7702_row6_col3\" class=\"data row6 col3\" >Choose from the following options: Normal, Oily, Dry, Combination, Sensitive.</td>\n",
       "      <td id=\"T_e7702_row6_col4\" class=\"data row6 col4\" >False</td>\n",
       "    </tr>\n",
       "    <tr>\n",
       "      <th id=\"T_e7702_level0_row7\" class=\"row_heading level0 row7\" >7</th>\n",
       "      <td id=\"T_e7702_row7_col0\" class=\"data row7 col0\" >which skin type is most prone to seborrheic dermatitis?</td>\n",
       "      <td id=\"T_e7702_row7_col1\" class=\"data row7 col1\" >oily</td>\n",
       "      <td id=\"T_e7702_row7_col2\" class=\"data row7 col2\" >determine the skin type that is most susceptible to seborrheic dermatitis. Seborrheic dermatitis is a common skin condition that often affects areas of the skin...</td>\n",
       "      <td id=\"T_e7702_row7_col3\" class=\"data row7 col3\" >Choose from the following options: Normal, Oily, Dry, Combination, Sensitive. Oily</td>\n",
       "      <td id=\"T_e7702_row7_col4\" class=\"data row7 col4\" >False</td>\n",
       "    </tr>\n",
       "    <tr>\n",
       "      <th id=\"T_e7702_level0_row8\" class=\"row_heading level0 row8\" >8</th>\n",
       "      <td id=\"T_e7702_row8_col0\" class=\"data row8 col0\" >what skin type might need different products for cheeks and forehead?</td>\n",
       "      <td id=\"T_e7702_row8_col1\" class=\"data row8 col1\" >combination</td>\n",
       "      <td id=\"T_e7702_row8_col2\" class=\"data row8 col2\" >determine the skin type that requires different products for different areas of the face. If the cheeks are dry while the forehead is oily, this...</td>\n",
       "      <td id=\"T_e7702_row8_col3\" class=\"data row8 col3\" >Choose from the following options: Normal, Oily, Dry, Combination, Sensitive</td>\n",
       "      <td id=\"T_e7702_row8_col4\" class=\"data row8 col4\" >False</td>\n",
       "    </tr>\n",
       "    <tr>\n",
       "      <th id=\"T_e7702_level0_row9\" class=\"row_heading level0 row9\" >9</th>\n",
       "      <td id=\"T_e7702_row9_col0\" class=\"data row9 col0\" >which skin type often benefits from using products with zinc?</td>\n",
       "      <td id=\"T_e7702_row9_col1\" class=\"data row9 col1\" >oily</td>\n",
       "      <td id=\"T_e7702_row9_col2\" class=\"data row9 col2\" >determine which skin type would benefit from zinc. Zinc is known for its anti-inflammatory properties and is often used to help control oil production and...</td>\n",
       "      <td id=\"T_e7702_row9_col3\" class=\"data row9 col3\" >Oily</td>\n",
       "      <td id=\"T_e7702_row9_col4\" class=\"data row9 col4\" >✔️ [True]</td>\n",
       "    </tr>\n",
       "  </tbody>\n",
       "</table>\n"
      ],
      "text/plain": [
       "<pandas.io.formats.style.Styler at 0x20ab3e022d0>"
      ]
     },
     "metadata": {},
     "output_type": "display_data"
    },
    {
     "data": {
      "text/html": [
       "\n",
       "                <div style='\n",
       "                    text-align: center;\n",
       "                    font-size: 16px;\n",
       "                    font-weight: bold;\n",
       "                    color: #555;\n",
       "                    margin: 10px 0;'>\n",
       "                    ... 47 more rows not displayed ...\n",
       "                </div>\n",
       "                "
      ],
      "text/plain": [
       "<IPython.core.display.HTML object>"
      ]
     },
     "metadata": {},
     "output_type": "display_data"
    },
    {
     "data": {
      "text/html": [
       "<pre style=\"white-space:pre;overflow-x:auto;line-height:normal;font-family:Menlo,'DejaVu Sans Mono',consolas,'Courier New',monospace\"><span style=\"font-weight: bold\">&lt;</span><span style=\"color: #ff00ff; text-decoration-color: #ff00ff; font-weight: bold\">built-in</span><span style=\"color: #000000; text-decoration-color: #000000\"> function eval</span><span style=\"font-weight: bold\">&gt;</span>\n",
       "</pre>\n"
      ],
      "text/plain": [
       "\u001b[1m<\u001b[0m\u001b[1;95mbuilt-in\u001b[0m\u001b[39m function eval\u001b[0m\u001b[1m>\u001b[0m\n"
      ]
     },
     "metadata": {},
     "output_type": "display_data"
    }
   ],
   "source": [
    "from rich import print as rprint\n",
    "\n",
    "evl = evaluate_prg(predict)\n",
    "rprint(eval)"
   ]
  },
  {
   "cell_type": "code",
   "execution_count": null,
   "metadata": {},
   "outputs": [],
   "source": []
  },
  {
   "cell_type": "code",
   "execution_count": null,
   "metadata": {},
   "outputs": [],
   "source": []
  }
 ],
 "metadata": {
  "kernelspec": {
   "display_name": "venv",
   "language": "python",
   "name": "python3"
  },
  "language_info": {
   "codemirror_mode": {
    "name": "ipython",
    "version": 3
   },
   "file_extension": ".py",
   "mimetype": "text/x-python",
   "name": "python",
   "nbconvert_exporter": "python",
   "pygments_lexer": "ipython3",
   "version": "3.12.3"
  }
 },
 "nbformat": 4,
 "nbformat_minor": 2
}
