{
 "cells": [
  {
   "cell_type": "code",
   "execution_count": 1,
   "metadata": {},
   "outputs": [
    {
     "name": "stderr",
     "output_type": "stream",
     "text": [
      "d:\\ThirdSummer\\Something\\venv\\Lib\\site-packages\\tqdm\\auto.py:21: TqdmWarning: IProgress not found. Please update jupyter and ipywidgets. See https://ipywidgets.readthedocs.io/en/stable/user_install.html\n",
      "  from .autonotebook import tqdm as notebook_tqdm\n"
     ]
    },
    {
     "name": "stdout",
     "output_type": "stream",
     "text": [
      "(112, 2)\n",
      "(48, 2)\n"
     ]
    }
   ],
   "source": [
    "import os\n",
    "import dspy\n",
    "import random\n",
    "import pandas as pd \n",
    "import ast\n",
    "from dotenv import load_dotenv\n",
    "load_dotenv()\n",
    "\n",
    "def get_data(test_size=0.2):\n",
    "    data = pd.read_csv('./input_data/water_qa.csv')\n",
    "\n",
    "    data = data.dropna()\n",
    "    data = data.drop_duplicates()\n",
    "    data['question'] = data['question'].apply(lambda x: x.lower())\n",
    "    data['answer'] = data['answer'].apply(lambda x: x.lower())\n",
    "    \n",
    "    data = data.sample(frac=1, random_state=42).reset_index(drop=True)\n",
    "    test_size = int(test_size * len(data))\n",
    "    test_data = data[:test_size]\n",
    "    train_data = data[test_size:]\n",
    "    return train_data, test_data\n",
    "\n",
    "train_data, test_data = get_data(test_size=0.3)\n",
    "\n",
    "print(train_data.shape) \n",
    "print(test_data.shape)"
   ]
  },
  {
   "cell_type": "code",
   "execution_count": 2,
   "metadata": {},
   "outputs": [],
   "source": [
    "train_set = [dspy.Example(question=q, answer=a).with_inputs(\"question\") for q, a in zip(train_data['question'], train_data['answer'])]\n",
    "test_set = [dspy.Example(question=q, answer=a).with_inputs(\"question\") for q, a in zip(test_data['question'], test_data['answer'])]"
   ]
  },
  {
   "cell_type": "code",
   "execution_count": 3,
   "metadata": {},
   "outputs": [
    {
     "name": "stdout",
     "output_type": "stream",
     "text": [
      "Example({'question': 'which category of contamination includes naturally occurring boron in volcanic aquifers?', 'answer': 'natural contaminants'}) (input_keys={'question'})\n"
     ]
    }
   ],
   "source": [
    "print(train_set[0])"
   ]
  },
  {
   "cell_type": "code",
   "execution_count": 4,
   "metadata": {},
   "outputs": [],
   "source": [
    "class ReferenceAnswer(dspy.Signature):\n",
    "    \"\"\" Choose the water contamination source from the following options: Agricultural Runoff,Chemical Spillage Natural Contaminants, Industrial Waste, Heavy Metals, Microbial Contamination, Sewage Leakage\"\"\"\n",
    "    question = dspy.InputField()\n",
    "    answer = dspy.OutputField(desc=\"Output the correct answer; 1-2 words\")\n",
    "    \n",
    "class PredictModel(dspy.Module):\n",
    "    def __init__(self):\n",
    "        self.predict = dspy.ChainOfThought(ReferenceAnswer)\n",
    "        \n",
    "    def forward(self, question):\n",
    "        return self.predict(question=question)"
   ]
  },
  {
   "cell_type": "code",
   "execution_count": 5,
   "metadata": {},
   "outputs": [],
   "source": [
    "turbo = dspy.OpenAI(api_key=os.getenv('OPENAI_API_KEY'), model=\"gpt-4o-mini\")\n",
    "mix = dspy.GROQ(api_key=os.getenv('GROQ_API_KEY'), model=\"mixtral-8x7b-32768\")"
   ]
  },
  {
   "cell_type": "code",
   "execution_count": 6,
   "metadata": {},
   "outputs": [],
   "source": [
    "dspy.settings.configure(lm=turbo, trace=[])\n",
    "predict = PredictModel()\n"
   ]
  },
  {
   "cell_type": "code",
   "execution_count": 7,
   "metadata": {},
   "outputs": [],
   "source": [
    "from dspy.evaluate import Evaluate\n",
    "from dspy.evaluate.metrics import answer_exact_match\n",
    "\n",
    "evaluate_prg = Evaluate(\n",
    "    devset=test_set,\n",
    "    metric=answer_exact_match,\n",
    "    num_threads=4,\n",
    "    display_progress=True,\n",
    "    display_table=10,\n",
    "    return_outputs=True\n",
    ")"
   ]
  },
  {
   "cell_type": "code",
   "execution_count": 8,
   "metadata": {},
   "outputs": [
    {
     "name": "stderr",
     "output_type": "stream",
     "text": [
      "  0%|          | 0/48 [00:00<?, ?it/s]"
     ]
    },
    {
     "name": "stderr",
     "output_type": "stream",
     "text": [
      "Average Metric: 31 / 48  (64.6): 100%|██████████| 48/48 [00:00<00:00, 85.93it/s]\n"
     ]
    },
    {
     "data": {
      "text/html": [
       "<style type=\"text/css\">\n",
       "#T_40cdf th {\n",
       "  text-align: left;\n",
       "}\n",
       "#T_40cdf td {\n",
       "  text-align: left;\n",
       "}\n",
       "#T_40cdf_row0_col0, #T_40cdf_row0_col1, #T_40cdf_row0_col2, #T_40cdf_row0_col3, #T_40cdf_row0_col4, #T_40cdf_row1_col0, #T_40cdf_row1_col1, #T_40cdf_row1_col2, #T_40cdf_row1_col3, #T_40cdf_row1_col4, #T_40cdf_row2_col0, #T_40cdf_row2_col1, #T_40cdf_row2_col2, #T_40cdf_row2_col3, #T_40cdf_row2_col4, #T_40cdf_row3_col0, #T_40cdf_row3_col1, #T_40cdf_row3_col2, #T_40cdf_row3_col3, #T_40cdf_row3_col4, #T_40cdf_row4_col0, #T_40cdf_row4_col1, #T_40cdf_row4_col2, #T_40cdf_row4_col3, #T_40cdf_row4_col4, #T_40cdf_row5_col0, #T_40cdf_row5_col1, #T_40cdf_row5_col2, #T_40cdf_row5_col3, #T_40cdf_row5_col4, #T_40cdf_row6_col0, #T_40cdf_row6_col1, #T_40cdf_row6_col2, #T_40cdf_row6_col3, #T_40cdf_row6_col4, #T_40cdf_row7_col0, #T_40cdf_row7_col1, #T_40cdf_row7_col2, #T_40cdf_row7_col3, #T_40cdf_row7_col4, #T_40cdf_row8_col0, #T_40cdf_row8_col1, #T_40cdf_row8_col2, #T_40cdf_row8_col3, #T_40cdf_row8_col4, #T_40cdf_row9_col0, #T_40cdf_row9_col1, #T_40cdf_row9_col2, #T_40cdf_row9_col3, #T_40cdf_row9_col4 {\n",
       "  text-align: left;\n",
       "  white-space: pre-wrap;\n",
       "  word-wrap: break-word;\n",
       "  max-width: 400px;\n",
       "}\n",
       "</style>\n",
       "<table id=\"T_40cdf\">\n",
       "  <thead>\n",
       "    <tr>\n",
       "      <th class=\"blank level0\" >&nbsp;</th>\n",
       "      <th id=\"T_40cdf_level0_col0\" class=\"col_heading level0 col0\" >question</th>\n",
       "      <th id=\"T_40cdf_level0_col1\" class=\"col_heading level0 col1\" >example_answer</th>\n",
       "      <th id=\"T_40cdf_level0_col2\" class=\"col_heading level0 col2\" >rationale</th>\n",
       "      <th id=\"T_40cdf_level0_col3\" class=\"col_heading level0 col3\" >pred_answer</th>\n",
       "      <th id=\"T_40cdf_level0_col4\" class=\"col_heading level0 col4\" >answer_exact_match</th>\n",
       "    </tr>\n",
       "  </thead>\n",
       "  <tbody>\n",
       "    <tr>\n",
       "      <th id=\"T_40cdf_level0_row0\" class=\"row_heading level0 row0\" >0</th>\n",
       "      <td id=\"T_40cdf_row0_col0\" class=\"data row0 col0\" >which contaminant is most likely if water has a high concentration of rotavirus?</td>\n",
       "      <td id=\"T_40cdf_row0_col1\" class=\"data row0 col1\" >sewage leakage</td>\n",
       "      <td id=\"T_40cdf_row0_col2\" class=\"data row0 col2\" >identify the source of contamination. Rotavirus is a viral pathogen commonly associated with fecal contamination. This suggests that the water is likely contaminated by human...</td>\n",
       "      <td id=\"T_40cdf_row0_col3\" class=\"data row0 col3\" >Sewage Leakage</td>\n",
       "      <td id=\"T_40cdf_row0_col4\" class=\"data row0 col4\" >✔️ [True]</td>\n",
       "    </tr>\n",
       "    <tr>\n",
       "      <th id=\"T_40cdf_level0_row1\" class=\"row_heading level0 row1\" >1</th>\n",
       "      <td id=\"T_40cdf_row1_col0\" class=\"data row1 col0\" >what is the primary concern when semiconductor manufacturing facilities are near water sources?</td>\n",
       "      <td id=\"T_40cdf_row1_col1\" class=\"data row1 col1\" >industrial waste</td>\n",
       "      <td id=\"T_40cdf_row1_col2\" class=\"data row1 col2\" >identify the potential risks associated with semiconductor manufacturing. These facilities often use various chemicals and materials that can be hazardous. If there is a leak...</td>\n",
       "      <td id=\"T_40cdf_row1_col3\" class=\"data row1 col3\" >Chemical Spillage</td>\n",
       "      <td id=\"T_40cdf_row1_col4\" class=\"data row1 col4\" >False</td>\n",
       "    </tr>\n",
       "    <tr>\n",
       "      <th id=\"T_40cdf_level0_row2\" class=\"row_heading level0 row2\" >2</th>\n",
       "      <td id=\"T_40cdf_row2_col0\" class=\"data row2 col0\" >which contaminant is most likely if water has a high concentration of entamoeba histolytica?</td>\n",
       "      <td id=\"T_40cdf_row2_col1\" class=\"data row2 col1\" >microbial contamination</td>\n",
       "      <td id=\"T_40cdf_row2_col2\" class=\"data row2 col2\" >identify the source of contamination. Entamoeba histolytica is a protozoan parasite that causes amoebic dysentery and is typically transmitted through contaminated water. This contamination often...</td>\n",
       "      <td id=\"T_40cdf_row2_col3\" class=\"data row2 col3\" >Sewage Leakage</td>\n",
       "      <td id=\"T_40cdf_row2_col4\" class=\"data row2 col4\" >False</td>\n",
       "    </tr>\n",
       "    <tr>\n",
       "      <th id=\"T_40cdf_level0_row3\" class=\"row_heading level0 row3\" >3</th>\n",
       "      <td id=\"T_40cdf_row3_col0\" class=\"data row3 col0\" >which contaminant is most likely if water contains high levels of trihalomethanes?</td>\n",
       "      <td id=\"T_40cdf_row3_col1\" class=\"data row3 col1\" >chemical spillage</td>\n",
       "      <td id=\"T_40cdf_row3_col2\" class=\"data row3 col2\" >determine the source of the trihalomethanes in the water. Trihalomethanes are typically formed when chlorine used for disinfection reacts with organic matter in the water....</td>\n",
       "      <td id=\"T_40cdf_row3_col3\" class=\"data row3 col3\" >Sewage Leakage</td>\n",
       "      <td id=\"T_40cdf_row3_col4\" class=\"data row3 col4\" >False</td>\n",
       "    </tr>\n",
       "    <tr>\n",
       "      <th id=\"T_40cdf_level0_row4\" class=\"row_heading level0 row4\" >4</th>\n",
       "      <td id=\"T_40cdf_row4_col0\" class=\"data row4 col0\" >what type of contamination is linked to the presence of per- and polyfluoroalkyl substances (pfas) in firefighting foam?</td>\n",
       "      <td id=\"T_40cdf_row4_col1\" class=\"data row4 col1\" >chemical spillage</td>\n",
       "      <td id=\"T_40cdf_row4_col2\" class=\"data row4 col2\" >identify the source of contamination associated with PFAS. PFAS are often found in firefighting foams, which are used in various industrial and emergency response situations....</td>\n",
       "      <td id=\"T_40cdf_row4_col3\" class=\"data row4 col3\" >Chemical Spillage</td>\n",
       "      <td id=\"T_40cdf_row4_col4\" class=\"data row4 col4\" >✔️ [True]</td>\n",
       "    </tr>\n",
       "    <tr>\n",
       "      <th id=\"T_40cdf_level0_row5\" class=\"row_heading level0 row5\" >5</th>\n",
       "      <td id=\"T_40cdf_row5_col0\" class=\"data row5 col0\" >which type of contamination is associated with high levels of zinc in water?</td>\n",
       "      <td id=\"T_40cdf_row5_col1\" class=\"data row5 col1\" >industrial waste</td>\n",
       "      <td id=\"T_40cdf_row5_col2\" class=\"data row5 col2\" >identify the source of zinc contamination in water. Zinc is commonly found in industrial processes and can be released into water bodies through various means....</td>\n",
       "      <td id=\"T_40cdf_row5_col3\" class=\"data row5 col3\" >Heavy Metals</td>\n",
       "      <td id=\"T_40cdf_row5_col4\" class=\"data row5 col4\" >False</td>\n",
       "    </tr>\n",
       "    <tr>\n",
       "      <th id=\"T_40cdf_level0_row6\" class=\"row_heading level0 row6\" >6</th>\n",
       "      <td id=\"T_40cdf_row6_col0\" class=\"data row6 col0\" >which category of contamination includes naturally occurring manganese in anaerobic aquifers?</td>\n",
       "      <td id=\"T_40cdf_row6_col1\" class=\"data row6 col1\" >natural contaminants</td>\n",
       "      <td id=\"T_40cdf_row6_col2\" class=\"data row6 col2\" >identify the source of contamination. We know that manganese can occur naturally in certain geological formations, particularly in anaerobic conditions. This suggests that the contamination...</td>\n",
       "      <td id=\"T_40cdf_row6_col3\" class=\"data row6 col3\" >Natural Contaminants</td>\n",
       "      <td id=\"T_40cdf_row6_col4\" class=\"data row6 col4\" >✔️ [True]</td>\n",
       "    </tr>\n",
       "    <tr>\n",
       "      <th id=\"T_40cdf_level0_row7\" class=\"row_heading level0 row7\" >7</th>\n",
       "      <td id=\"T_40cdf_row7_col0\" class=\"data row7 col0\" >which contaminant is most likely if water has a high concentration of fecal indicator bacteria?</td>\n",
       "      <td id=\"T_40cdf_row7_col1\" class=\"data row7 col1\" >sewage leakage</td>\n",
       "      <td id=\"T_40cdf_row7_col2\" class=\"data row7 col2\" >identify the source of contamination. Fecal indicator bacteria are typically associated with human and animal waste. Therefore, if water has a high concentration of these...</td>\n",
       "      <td id=\"T_40cdf_row7_col3\" class=\"data row7 col3\" >Sewage Leakage</td>\n",
       "      <td id=\"T_40cdf_row7_col4\" class=\"data row7 col4\" >✔️ [True]</td>\n",
       "    </tr>\n",
       "    <tr>\n",
       "      <th id=\"T_40cdf_level0_row8\" class=\"row_heading level0 row8\" >8</th>\n",
       "      <td id=\"T_40cdf_row8_col0\" class=\"data row8 col0\" >what type of contamination is linked to the presence of legionella pneumophila in cooling towers?</td>\n",
       "      <td id=\"T_40cdf_row8_col1\" class=\"data row8 col1\" >microbial contamination</td>\n",
       "      <td id=\"T_40cdf_row8_col2\" class=\"data row8 col2\" >identify the source of contamination associated with legionella pneumophila. This bacterium is commonly found in water systems, particularly in man-made environments like cooling towers. It...</td>\n",
       "      <td id=\"T_40cdf_row8_col3\" class=\"data row8 col3\" >Microbial Contamination</td>\n",
       "      <td id=\"T_40cdf_row8_col4\" class=\"data row8 col4\" >✔️ [True]</td>\n",
       "    </tr>\n",
       "    <tr>\n",
       "      <th id=\"T_40cdf_level0_row9\" class=\"row_heading level0 row9\" >9</th>\n",
       "      <td id=\"T_40cdf_row9_col0\" class=\"data row9 col0\" >what type of contamination is linked to the presence of bisphenol a (bpa) in water?</td>\n",
       "      <td id=\"T_40cdf_row9_col1\" class=\"data row9 col1\" >industrial waste</td>\n",
       "      <td id=\"T_40cdf_row9_col2\" class=\"data row9 col2\" >identify the source of bisphenol A (BPA) contamination in water. BPA is commonly found in plastics and can leach into water sources from various industrial...</td>\n",
       "      <td id=\"T_40cdf_row9_col3\" class=\"data row9 col3\" >Industrial Waste</td>\n",
       "      <td id=\"T_40cdf_row9_col4\" class=\"data row9 col4\" >✔️ [True]</td>\n",
       "    </tr>\n",
       "  </tbody>\n",
       "</table>\n"
      ],
      "text/plain": [
       "<pandas.io.formats.style.Styler at 0x1f34fbe24b0>"
      ]
     },
     "metadata": {},
     "output_type": "display_data"
    },
    {
     "data": {
      "text/html": [
       "\n",
       "                <div style='\n",
       "                    text-align: center;\n",
       "                    font-size: 16px;\n",
       "                    font-weight: bold;\n",
       "                    color: #555;\n",
       "                    margin: 10px 0;'>\n",
       "                    ... 38 more rows not displayed ...\n",
       "                </div>\n",
       "                "
      ],
      "text/plain": [
       "<IPython.core.display.HTML object>"
      ]
     },
     "metadata": {},
     "output_type": "display_data"
    },
    {
     "data": {
      "text/html": [
       "<pre style=\"white-space:pre;overflow-x:auto;line-height:normal;font-family:Menlo,'DejaVu Sans Mono',consolas,'Courier New',monospace\"><span style=\"font-weight: bold\">&lt;</span><span style=\"color: #ff00ff; text-decoration-color: #ff00ff; font-weight: bold\">built-in</span><span style=\"color: #000000; text-decoration-color: #000000\"> function eval</span><span style=\"font-weight: bold\">&gt;</span>\n",
       "</pre>\n"
      ],
      "text/plain": [
       "\u001b[1m<\u001b[0m\u001b[1;95mbuilt-in\u001b[0m\u001b[39m function eval\u001b[0m\u001b[1m>\u001b[0m\n"
      ]
     },
     "metadata": {},
     "output_type": "display_data"
    }
   ],
   "source": [
    "from rich import print as rprint\n",
    "\n",
    "evl = evaluate_prg(predict)\n",
    "rprint(eval)"
   ]
  },
  {
   "cell_type": "markdown",
   "metadata": {},
   "source": [
    "## We got about 65% Accuracy on the Test Set using Few Shot"
   ]
  },
  {
   "cell_type": "markdown",
   "metadata": {},
   "source": [
    "## Now optmizing using Boostrap Random Search by dspy to improve accuracy"
   ]
  },
  {
   "cell_type": "code",
   "execution_count": 21,
   "metadata": {},
   "outputs": [
    {
     "name": "stdout",
     "output_type": "stream",
     "text": [
      "WARNING: MIPRO has been deprecated and replaced with MIPROv2.  MIPRO will be removed in a future release. \n",
      "WARNING: Projected Language Model (LM) Calls\n",
      "\n",
      "Please be advised that based on the parameters you have set, the maximum number of LM calls is projected as follows:\n",
      "\n",
      "- Task Model: 112 examples in dev set * 1 trials * # of LM calls in your program = (112 * # of LM calls in your program) task model calls\n",
      "- Prompt Model: # data summarizer calls (max 10) + 3 * 1 lm calls in program = 13 prompt model calls\n",
      "\n",
      "Estimated Cost Calculation:\n",
      "\n",
      "Total Cost = (Number of calls to task model * (Avg Input Token Length per Call * Task Model Price per Input Token + Avg Output Token Length per Call * Task Model Price per Output Token) \n",
      "            + (Number of calls to prompt model * (Avg Input Token Length per Call * Task Prompt Price per Input Token + Avg Output Token Length per Call * Prompt Model Price per Output Token).\n",
      "\n",
      "For a preliminary estimate of potential costs, we recommend you perform your own calculations based on the task\n",
      "and prompt models you intend to use. If the projected costs exceed your budget or expectations, you may consider:\n",
      "\n",
      "- Reducing the number of trials (`num_trials`), the size of the trainset, or the number of LM calls in your program.\n",
      "- Using a cheaper task model to optimize the prompt.\n",
      "To proceed with the execution of this program, please confirm by typing 'y' for yes or 'n' for no.\n",
      "\n",
      "If you would like to bypass this confirmation step in future executions, set the `requires_permission_to_run` flag to `False` when calling compile.\n",
      "\n",
      "Awaiting your input...\n",
      "\n",
      "Creating basic bootstrap: 1/2\n"
     ]
    },
    {
     "name": "stderr",
     "output_type": "stream",
     "text": [
      "  3%|▎         | 3/112 [00:05<03:21,  1.85s/it]\n"
     ]
    },
    {
     "name": "stdout",
     "output_type": "stream",
     "text": [
      "Bootstrapped 3 full traces after 4 examples in round 0.\n",
      "Creating basic bootstrap: 2/2\n"
     ]
    },
    {
     "name": "stderr",
     "output_type": "stream",
     "text": [
      "  5%|▌         | 6/112 [00:08<02:31,  1.43s/it]\n"
     ]
    },
    {
     "name": "stdout",
     "output_type": "stream",
     "text": [
      "Bootstrapped 3 full traces after 7 examples in round 0.\n",
      "Model (<dsp.modules.gpt3.GPT3 object at 0x000001F34FDECD40>) History:\n",
      "\n",
      "\n",
      "\n",
      "You are an instruction optimizer for large language models. I will give you a ``signature`` of fields (inputs and outputs) in English. Specifically, I will give you some ``observations`` I have made about the dataset and task, along with some ``examples`` of the expected inputs and outputs. I will also provide you with the current ``basic instruction`` that is being used for this task.\n",
      "\n",
      "Your task is to propose a new improved instruction and prefix for the output field that will lead a good language model to perform the task well. Don't be afraid to be creative.\n",
      "\n",
      "---\n",
      "\n",
      "Follow the following format.\n",
      "\n",
      "Observations: Observations about the dataset and task\n",
      "\n",
      "Examples: Example(s) of the task\n",
      "\n",
      "Basic Instruction: The initial instructions before optimization\n",
      "\n",
      "Proposed Instruction: The improved instructions for the language model\n",
      "\n",
      "Proposed Prefix For Output Field: The string at the end of the prompt, which will help the model start solving the task\n",
      "\n",
      "---\n",
      "\n",
      "Observations: The dataset highlights various sources of water contamination, primarily categorizing them into natural contaminants, agricultural runoff, industrial waste, and sewage leakage. Notably, high levels of substances like nitrates, phosphates, and certain pesticides link predominantly to agricultural activities, whereas industrial waste is a significant concern due to toxic chemicals such as PCBs and PFOA. Additionally, microbial contamination is marked by the presence of harmful bacteria and viruses in water sources.\n",
      "\n",
      "Examples:\n",
      "[1] «Question: what type of contamination is linked to the presence of legionella bacteria?\n",
      "Reasoning: Let's think step by step in order to identify the source of contamination associated with legionella bacteria. Legionella is commonly found in water systems and can proliferate in warm water environments, often linked to human-made systems such as cooling towers and plumbing. This suggests that the contamination is likely due to human activities rather than natural sources. Therefore, we can conclude that the source is related to sewage or water systems that may harbor microbial pathogens.\n",
      "Answer: microbial contamination»\n",
      "[2] «Question: what type of contamination is linked to the presence of neonicotinoid pesticides in surface water?\n",
      "Reasoning: Let's think step by step in order to identify the source of contamination. Neonicotinoid pesticides are commonly used in agricultural practices and can run off into nearby water bodies during rainfall or irrigation. This runoff can lead to elevated levels of these pesticides in surface water. Therefore, the most likely source of this contamination is related to agricultural activities.\n",
      "Answer: agricultural runoff»\n",
      "[3] «Question: which category of contamination includes naturally occurring boron in volcanic aquifers?\n",
      "Reasoning: Let's think step by step in order to identify the source of contamination. We know that naturally occurring substances in the environment can lead to contamination, and boron is a mineral that can be found in volcanic areas. Therefore, it falls under the category of natural contaminants.\n",
      "Answer: natural contaminants»\n",
      "\n",
      "Basic Instruction: Choose the water contamination source from the following options: Agricultural Runoff,Chemical Spillage Natural Contaminants, Industrial Waste, Heavy Metals, Microbial Contamination, Sewage Leakage\n",
      "\n",
      "Proposed Instruction: **Proposed Instruction:** Analyze the provided question carefully and consider the characteristics of the substances mentioned. Use logical reasoning to connect any contaminants to their likely sources. Categorize the contamination based on known sources such as natural phenomena, agricultural practices, industrial activities, or waste management issues. Clearly articulate your thought processes before arriving at the conclusion to ensure transparency in how you derived the answer. **Proposed Prefix For Output Field:** Based on the analysis, the source of contamination is:\n",
      "\n",
      "Proposed Prefix For Output Field: **Proposed Instruction:** Analyze the provided question carefully and consider the characteristics of the substances mentioned. Use logical reasoning to connect any contaminants to their likely sources. Categorize the contamination based on known sources such as natural phenomena, agricultural practices, industrial activities, or waste management issues. Clearly articulate your thought processes before arriving at the conclusion to ensure transparency in how you derived the answer.\n",
      "\n",
      "\n",
      "\n"
     ]
    },
    {
     "name": "stderr",
     "output_type": "stream",
     "text": [
      "[I 2024-08-11 18:44:18,965] A new study created in memory with name: no-name-7171a5bf-31a4-43a4-b8d8-a3f118d3fe98\n"
     ]
    },
    {
     "name": "stdout",
     "output_type": "stream",
     "text": [
      "Starting trial #0\n",
      "Evaling the following program:\n",
      "Predictor 0\n",
      "i: Proposed Instruction: Analyze the provided water contamination indicator and determine the most likely source of contamination based on the context of known contaminants. Consider the specific chemicals or substances mentioned and their typical associations with different contamination sources. Then, succinctly explain your thought process leading to the conclusion, identifying the primary source of contamination.\n",
      "p: Source of Contamination:\n",
      "\n",
      "\n"
     ]
    },
    {
     "name": "stderr",
     "output_type": "stream",
     "text": [
      "Average Metric: 8 / 100  (8.0): 100%|██████████| 100/100 [00:13<00:00,  7.66it/s]\n"
     ]
    },
    {
     "name": "stdout",
     "output_type": "stream",
     "text": [
      "0st split score: 8.0\n",
      "curr average score: 8.0\n"
     ]
    },
    {
     "name": "stderr",
     "output_type": "stream",
     "text": [
      "Average Metric: 0 / 12  (0.0): 100%|██████████| 12/12 [00:02<00:00,  4.68it/s]\n"
     ]
    },
    {
     "name": "stdout",
     "output_type": "stream",
     "text": [
      "1st split score: 0.0\n",
      "curr average score: 7.142857142857143\n",
      "Fully evaled score: 7.142857142857143\n",
      "Model (<dsp.modules.gpt3.GPT3 object at 0x000001F34FDECD40>) History:\n",
      "\n",
      "\n",
      "\n",
      "Proposed Instruction: Analyze the provided water contamination indicator and determine the most likely source of contamination based on the context of known contaminants. Consider the specific chemicals or substances mentioned and their typical associations with different contamination sources. Then, succinctly explain your thought process leading to the conclusion, identifying the primary source of contamination.\n",
      "\n",
      "---\n",
      "\n",
      "Follow the following format.\n",
      "\n",
      "Question: ${question}\n",
      "Reasoning: Let's think step by step in order to ${produce the answer}. We ...\n",
      "Source of Contamination: Output the correct answer; 1-2 words\n",
      "\n",
      "---\n",
      "\n",
      "Question: what type of contamination is linked to the presence of tetrachloroethylene in groundwater?\n",
      "Reasoning: Let's think step by step in order to analyze the potential sources of tetrachloroethylene. Tetrachloroethylene, also known as perchloroethylene (PERC), is a solvent commonly used in dry cleaning and degreasing operations. Its presence in groundwater typically indicates contamination from industrial activities, particularly those related to dry cleaning facilities or manufacturing processes that utilize this chemical. Additionally, it can also be associated with improper disposal practices or leaks from storage tanks. Given these associations, the most likely source of contamination in this case is linked to dry cleaning operations or industrial solvent use. \n",
      "\n",
      "Source of Contamination: Dry cleaning\n",
      "\n",
      "\n",
      "\n"
     ]
    },
    {
     "name": "stderr",
     "output_type": "stream",
     "text": [
      "[I 2024-08-11 18:44:34,935] Trial 0 finished with value: 7.142857142857143 and parameters: {'2144597026400_predictor_instruction': 1, '2144597026400_predictor_demos': 0}. Best is trial 0 with value: 7.142857142857143.\n"
     ]
    },
    {
     "name": "stdout",
     "output_type": "stream",
     "text": [
      "Returning predict = Predict(StringSignature(question -> rationale, answer\n",
      "    instructions='Choose the water contamination source from the following options: Agricultural Runoff,Chemical Spillage Natural Contaminants, Industrial Waste, Heavy Metals, Microbial Contamination, Sewage Leakage'\n",
      "    question = Field(annotation=str required=True json_schema_extra={'__dspy_field_type': 'input', 'prefix': 'Question:', 'desc': '${question}'})\n",
      "    rationale = Field(annotation=str required=True json_schema_extra={'prefix': \"Reasoning: Let's think step by step in order to\", 'desc': '${produce the answer}. We ...', '__dspy_field_type': 'output'})\n",
      "    answer = Field(annotation=str required=True json_schema_extra={'desc': 'Output the correct answer; 1-2 words', '__dspy_field_type': 'output', 'prefix': 'Answer:'})\n",
      ")) from continue_program\n"
     ]
    }
   ],
   "source": [
    "from dspy.teleprompt import MIPRO\n",
    "teleprompter = MIPRO(\n",
    "    metric=answer_exact_match,\n",
    "    num_candidates=3,\n",
    "    verbose=True\n",
    ")\n",
    "\n",
    "eval_kwargs = dict(\n",
    "    num_threads=16, \n",
    "    display_progress=True, \n",
    "    display_table=0\n",
    ")\n",
    "\n",
    "compiled_teleprompter = teleprompter.compile(\n",
    "    predict,\n",
    "    trainset=train_set,\n",
    "    num_trials=1,\n",
    "    max_bootstrapped_demos=3,\n",
    "    max_labeled_demos=5,\n",
    "    eval_kwargs=eval_kwargs\n",
    ")"
   ]
  },
  {
   "cell_type": "code",
   "execution_count": 22,
   "metadata": {},
   "outputs": [
    {
     "name": "stderr",
     "output_type": "stream",
     "text": [
      "Average Metric: 3 / 48  (6.2): 100%|██████████| 48/48 [00:23<00:00,  2.08it/s] \n"
     ]
    },
    {
     "data": {
      "text/html": [
       "<style type=\"text/css\">\n",
       "#T_b00e8 th {\n",
       "  text-align: left;\n",
       "}\n",
       "#T_b00e8 td {\n",
       "  text-align: left;\n",
       "}\n",
       "#T_b00e8_row0_col0, #T_b00e8_row0_col1, #T_b00e8_row0_col2, #T_b00e8_row0_col3, #T_b00e8_row0_col4, #T_b00e8_row1_col0, #T_b00e8_row1_col1, #T_b00e8_row1_col2, #T_b00e8_row1_col3, #T_b00e8_row1_col4, #T_b00e8_row2_col0, #T_b00e8_row2_col1, #T_b00e8_row2_col2, #T_b00e8_row2_col3, #T_b00e8_row2_col4, #T_b00e8_row3_col0, #T_b00e8_row3_col1, #T_b00e8_row3_col2, #T_b00e8_row3_col3, #T_b00e8_row3_col4, #T_b00e8_row4_col0, #T_b00e8_row4_col1, #T_b00e8_row4_col2, #T_b00e8_row4_col3, #T_b00e8_row4_col4, #T_b00e8_row5_col0, #T_b00e8_row5_col1, #T_b00e8_row5_col2, #T_b00e8_row5_col3, #T_b00e8_row5_col4, #T_b00e8_row6_col0, #T_b00e8_row6_col1, #T_b00e8_row6_col2, #T_b00e8_row6_col3, #T_b00e8_row6_col4, #T_b00e8_row7_col0, #T_b00e8_row7_col1, #T_b00e8_row7_col2, #T_b00e8_row7_col3, #T_b00e8_row7_col4, #T_b00e8_row8_col0, #T_b00e8_row8_col1, #T_b00e8_row8_col2, #T_b00e8_row8_col3, #T_b00e8_row8_col4, #T_b00e8_row9_col0, #T_b00e8_row9_col1, #T_b00e8_row9_col2, #T_b00e8_row9_col3, #T_b00e8_row9_col4 {\n",
       "  text-align: left;\n",
       "  white-space: pre-wrap;\n",
       "  word-wrap: break-word;\n",
       "  max-width: 400px;\n",
       "}\n",
       "</style>\n",
       "<table id=\"T_b00e8\">\n",
       "  <thead>\n",
       "    <tr>\n",
       "      <th class=\"blank level0\" >&nbsp;</th>\n",
       "      <th id=\"T_b00e8_level0_col0\" class=\"col_heading level0 col0\" >question</th>\n",
       "      <th id=\"T_b00e8_level0_col1\" class=\"col_heading level0 col1\" >example_answer</th>\n",
       "      <th id=\"T_b00e8_level0_col2\" class=\"col_heading level0 col2\" >rationale</th>\n",
       "      <th id=\"T_b00e8_level0_col3\" class=\"col_heading level0 col3\" >pred_answer</th>\n",
       "      <th id=\"T_b00e8_level0_col4\" class=\"col_heading level0 col4\" >answer_exact_match</th>\n",
       "    </tr>\n",
       "  </thead>\n",
       "  <tbody>\n",
       "    <tr>\n",
       "      <th id=\"T_b00e8_level0_row0\" class=\"row_heading level0 row0\" >0</th>\n",
       "      <td id=\"T_b00e8_row0_col0\" class=\"data row0 col0\" >which contaminant is most likely if water has a high concentration of rotavirus?</td>\n",
       "      <td id=\"T_b00e8_row0_col1\" class=\"data row0 col1\" >sewage leakage</td>\n",
       "      <td id=\"T_b00e8_row0_col2\" class=\"data row0 col2\" >determine the source of contamination associated with rotavirus. Rotavirus is primarily transmitted through the fecal-oral route, often through contaminated water or food. High concentrations of...</td>\n",
       "      <td id=\"T_b00e8_row0_col3\" class=\"data row0 col3\" >Sewage</td>\n",
       "      <td id=\"T_b00e8_row0_col4\" class=\"data row0 col4\" >False</td>\n",
       "    </tr>\n",
       "    <tr>\n",
       "      <th id=\"T_b00e8_level0_row1\" class=\"row_heading level0 row1\" >1</th>\n",
       "      <td id=\"T_b00e8_row1_col0\" class=\"data row1 col0\" >what is the primary concern when semiconductor manufacturing facilities are near water sources?</td>\n",
       "      <td id=\"T_b00e8_row1_col1\" class=\"data row1 col1\" >industrial waste</td>\n",
       "      <td id=\"T_b00e8_row1_col2\" class=\"data row1 col2\" >analyze the potential contaminants associated with semiconductor manufacturing. These facilities often use a variety of chemicals, including solvents, acids, and heavy metals, which can leach...</td>\n",
       "      <td id=\"T_b00e8_row1_col3\" class=\"data row1 col3\" >Industrial runoff</td>\n",
       "      <td id=\"T_b00e8_row1_col4\" class=\"data row1 col4\" >False</td>\n",
       "    </tr>\n",
       "    <tr>\n",
       "      <th id=\"T_b00e8_level0_row2\" class=\"row_heading level0 row2\" >2</th>\n",
       "      <td id=\"T_b00e8_row2_col0\" class=\"data row2 col0\" >which contaminant is most likely if water has a high concentration of entamoeba histolytica?</td>\n",
       "      <td id=\"T_b00e8_row2_col1\" class=\"data row2 col1\" >microbial contamination</td>\n",
       "      <td id=\"T_b00e8_row2_col2\" class=\"data row2 col2\" >determine the source of contamination. Entamoeba histolytica is a protozoan parasite that causes amoebic dysentery and is typically associated with fecal contamination of water sources....</td>\n",
       "      <td id=\"T_b00e8_row2_col3\" class=\"data row2 col3\" >Fecal matter</td>\n",
       "      <td id=\"T_b00e8_row2_col4\" class=\"data row2 col4\" >False</td>\n",
       "    </tr>\n",
       "    <tr>\n",
       "      <th id=\"T_b00e8_level0_row3\" class=\"row_heading level0 row3\" >3</th>\n",
       "      <td id=\"T_b00e8_row3_col0\" class=\"data row3 col0\" >which contaminant is most likely if water contains high levels of trihalomethanes?</td>\n",
       "      <td id=\"T_b00e8_row3_col1\" class=\"data row3 col1\" >chemical spillage</td>\n",
       "      <td id=\"T_b00e8_row3_col2\" class=\"data row3 col2\" >determine the source of contamination. Trihalomethanes (THMs) are a group of chemical compounds that are typically formed when chlorine, used as a disinfectant in drinking...</td>\n",
       "      <td id=\"T_b00e8_row3_col3\" class=\"data row3 col3\" >Chlorination</td>\n",
       "      <td id=\"T_b00e8_row3_col4\" class=\"data row3 col4\" >False</td>\n",
       "    </tr>\n",
       "    <tr>\n",
       "      <th id=\"T_b00e8_level0_row4\" class=\"row_heading level0 row4\" >4</th>\n",
       "      <td id=\"T_b00e8_row4_col0\" class=\"data row4 col0\" >what type of contamination is linked to the presence of per- and polyfluoroalkyl substances (pfas) in firefighting foam?</td>\n",
       "      <td id=\"T_b00e8_row4_col1\" class=\"data row4 col1\" >chemical spillage</td>\n",
       "      <td id=\"T_b00e8_row4_col2\" class=\"data row4 col2\" >determine the source of contamination associated with PFAS. PFAS are a group of man-made chemicals that are often used in various industrial applications and consumer...</td>\n",
       "      <td id=\"T_b00e8_row4_col3\" class=\"data row4 col3\" >Firefighting foam</td>\n",
       "      <td id=\"T_b00e8_row4_col4\" class=\"data row4 col4\" >False</td>\n",
       "    </tr>\n",
       "    <tr>\n",
       "      <th id=\"T_b00e8_level0_row5\" class=\"row_heading level0 row5\" >5</th>\n",
       "      <td id=\"T_b00e8_row5_col0\" class=\"data row5 col0\" >which type of contamination is associated with high levels of zinc in water?</td>\n",
       "      <td id=\"T_b00e8_row5_col1\" class=\"data row5 col1\" >industrial waste</td>\n",
       "      <td id=\"T_b00e8_row5_col2\" class=\"data row5 col2\" >determine the likely source of zinc contamination in water. Zinc is a metal that can enter water systems through various pathways. Common sources of zinc...</td>\n",
       "      <td id=\"T_b00e8_row5_col3\" class=\"data row5 col3\" >Industrial runoff</td>\n",
       "      <td id=\"T_b00e8_row5_col4\" class=\"data row5 col4\" >False</td>\n",
       "    </tr>\n",
       "    <tr>\n",
       "      <th id=\"T_b00e8_level0_row6\" class=\"row_heading level0 row6\" >6</th>\n",
       "      <td id=\"T_b00e8_row6_col0\" class=\"data row6 col0\" >which category of contamination includes naturally occurring manganese in anaerobic aquifers?</td>\n",
       "      <td id=\"T_b00e8_row6_col1\" class=\"data row6 col1\" >natural contaminants</td>\n",
       "      <td id=\"T_b00e8_row6_col2\" class=\"data row6 col2\" >analyze the context of manganese and its typical associations. Manganese is a trace metal that can be found in groundwater, particularly in anaerobic conditions where...</td>\n",
       "      <td id=\"T_b00e8_row6_col3\" class=\"data row6 col3\" >Natural geology</td>\n",
       "      <td id=\"T_b00e8_row6_col4\" class=\"data row6 col4\" >False</td>\n",
       "    </tr>\n",
       "    <tr>\n",
       "      <th id=\"T_b00e8_level0_row7\" class=\"row_heading level0 row7\" >7</th>\n",
       "      <td id=\"T_b00e8_row7_col0\" class=\"data row7 col0\" >which contaminant is most likely if water has a high concentration of fecal indicator bacteria?</td>\n",
       "      <td id=\"T_b00e8_row7_col1\" class=\"data row7 col1\" >sewage leakage</td>\n",
       "      <td id=\"T_b00e8_row7_col2\" class=\"data row7 col2\" >determine the source of contamination. Fecal indicator bacteria, such as E. coli, are typically associated with the presence of fecal matter from warm-blooded animals. High...</td>\n",
       "      <td id=\"T_b00e8_row7_col3\" class=\"data row7 col3\" >Sewage</td>\n",
       "      <td id=\"T_b00e8_row7_col4\" class=\"data row7 col4\" >False</td>\n",
       "    </tr>\n",
       "    <tr>\n",
       "      <th id=\"T_b00e8_level0_row8\" class=\"row_heading level0 row8\" >8</th>\n",
       "      <td id=\"T_b00e8_row8_col0\" class=\"data row8 col0\" >what type of contamination is linked to the presence of legionella pneumophila in cooling towers?</td>\n",
       "      <td id=\"T_b00e8_row8_col1\" class=\"data row8 col1\" >microbial contamination</td>\n",
       "      <td id=\"T_b00e8_row8_col2\" class=\"data row8 col2\" >determine the source of contamination associated with legionella pneumophila. Legionella pneumophila is a bacterium that thrives in warm water environments, particularly in man-made water systems....</td>\n",
       "      <td id=\"T_b00e8_row8_col3\" class=\"data row8 col3\" >Cooling towers</td>\n",
       "      <td id=\"T_b00e8_row8_col4\" class=\"data row8 col4\" >False</td>\n",
       "    </tr>\n",
       "    <tr>\n",
       "      <th id=\"T_b00e8_level0_row9\" class=\"row_heading level0 row9\" >9</th>\n",
       "      <td id=\"T_b00e8_row9_col0\" class=\"data row9 col0\" >what type of contamination is linked to the presence of bisphenol a (bpa) in water?</td>\n",
       "      <td id=\"T_b00e8_row9_col1\" class=\"data row9 col1\" >industrial waste</td>\n",
       "      <td id=\"T_b00e8_row9_col2\" class=\"data row9 col2\" >determine the source of bisphenol A (BPA) contamination in water. BPA is a chemical commonly used in the production of plastics and resins, particularly polycarbonate...</td>\n",
       "      <td id=\"T_b00e8_row9_col3\" class=\"data row9 col3\" >Plastic waste</td>\n",
       "      <td id=\"T_b00e8_row9_col4\" class=\"data row9 col4\" >False</td>\n",
       "    </tr>\n",
       "  </tbody>\n",
       "</table>\n"
      ],
      "text/plain": [
       "<pandas.io.formats.style.Styler at 0x1f35464e930>"
      ]
     },
     "metadata": {},
     "output_type": "display_data"
    },
    {
     "data": {
      "text/html": [
       "\n",
       "                <div style='\n",
       "                    text-align: center;\n",
       "                    font-size: 16px;\n",
       "                    font-weight: bold;\n",
       "                    color: #555;\n",
       "                    margin: 10px 0;'>\n",
       "                    ... 38 more rows not displayed ...\n",
       "                </div>\n",
       "                "
      ],
      "text/plain": [
       "<IPython.core.display.HTML object>"
      ]
     },
     "metadata": {},
     "output_type": "display_data"
    },
    {
     "name": "stdout",
     "output_type": "stream",
     "text": [
      "(6.25, [(Example({'question': 'which contaminant is most likely if water has a high concentration of rotavirus?', 'answer': 'sewage leakage'}) (input_keys={'question'}), Prediction(\n",
      "    rationale='determine the source of contamination associated with rotavirus. Rotavirus is primarily transmitted through the fecal-oral route, often through contaminated water or food. High concentrations of rotavirus in water typically indicate that the water has been contaminated by human or animal waste. This suggests a lack of proper sanitation or treatment of wastewater. Therefore, the most likely source of contamination in this case would be sewage or fecal matter.',\n",
      "    answer='Sewage'\n",
      "), False), (Example({'question': 'what is the primary concern when semiconductor manufacturing facilities are near water sources?', 'answer': 'industrial waste'}) (input_keys={'question'}), Prediction(\n",
      "    rationale='analyze the potential contaminants associated with semiconductor manufacturing. These facilities often use a variety of chemicals, including solvents, acids, and heavy metals, which can leach into nearby water sources. Common contaminants include perfluorinated compounds (PFCs), hydrochloric acid, and various heavy metals like lead and arsenic. The proximity to water sources raises concerns about the runoff and discharge of these hazardous substances, which can lead to significant environmental and health risks. Therefore, the primary concern is the potential for chemical contamination of water supplies from these manufacturing processes.',\n",
      "    answer='Industrial runoff'\n",
      "), False), (Example({'question': 'which contaminant is most likely if water has a high concentration of entamoeba histolytica?', 'answer': 'microbial contamination'}) (input_keys={'question'}), Prediction(\n",
      "    rationale='determine the source of contamination. Entamoeba histolytica is a protozoan parasite that causes amoebic dysentery and is typically associated with fecal contamination of water sources. This organism is often found in areas with poor sanitation and hygiene practices, where human or animal waste can contaminate drinking water supplies. Therefore, the presence of Entamoeba histolytica indicates that the water has likely been contaminated by fecal matter.',\n",
      "    answer='Fecal matter'\n",
      "), False), (Example({'question': 'which contaminant is most likely if water contains high levels of trihalomethanes?', 'answer': 'chemical spillage'}) (input_keys={'question'}), Prediction(\n",
      "    rationale='determine the source of contamination. Trihalomethanes (THMs) are a group of chemical compounds that are typically formed when chlorine, used as a disinfectant in drinking water treatment, reacts with organic matter present in the water. High levels of THMs indicate that there has been a significant interaction between chlorine and organic materials, which can occur in surface water sources that are rich in organic content, such as rivers and lakes. Therefore, the presence of high levels of trihalomethanes suggests that the water source has undergone chlorination treatment, and the organic matter likely comes from agricultural runoff, decaying vegetation, or other natural sources.',\n",
      "    answer='Chlorination'\n",
      "), False), (Example({'question': 'what type of contamination is linked to the presence of per- and polyfluoroalkyl substances (pfas) in firefighting foam?', 'answer': 'chemical spillage'}) (input_keys={'question'}), Prediction(\n",
      "    rationale='determine the source of contamination associated with PFAS. PFAS are a group of man-made chemicals that are often used in various industrial applications and consumer products due to their water- and grease-resistant properties. One of the most significant sources of PFAS contamination is firefighting foam, particularly aqueous film-forming foam (AFFF), which has been widely used in firefighting training and emergency response situations. The presence of PFAS in water sources is typically linked to areas where such foams have been used or disposed of improperly. Therefore, the context of PFAS in firefighting foam strongly indicates that the contamination is primarily associated with firefighting activities.',\n",
      "    answer='Firefighting foam'\n",
      "), False), (Example({'question': 'which type of contamination is associated with high levels of zinc in water?', 'answer': 'industrial waste'}) (input_keys={'question'}), Prediction(\n",
      "    rationale='determine the likely source of zinc contamination in water. Zinc is a metal that can enter water systems through various pathways. Common sources of zinc contamination include industrial discharges, mining activities, and runoff from urban areas where zinc is used in roofing materials and galvanized steel. Additionally, agricultural practices can contribute to zinc levels through fertilizers and animal waste. Given these associations, we can narrow down the most probable source of high zinc levels in water.',\n",
      "    answer='Industrial runoff'\n",
      "), False), (Example({'question': 'which category of contamination includes naturally occurring manganese in anaerobic aquifers?', 'answer': 'natural contaminants'}) (input_keys={'question'}), Prediction(\n",
      "    rationale='analyze the context of manganese and its typical associations. Manganese is a trace metal that can be found in groundwater, particularly in anaerobic conditions where it can dissolve more readily. In many cases, the presence of manganese in water is linked to natural geological formations, especially in areas with certain types of rock or sediment that contain manganese minerals. Therefore, the most likely source of contamination in this scenario is not anthropogenic but rather geological.',\n",
      "    answer='Natural geology'\n",
      "), False), (Example({'question': 'which contaminant is most likely if water has a high concentration of fecal indicator bacteria?', 'answer': 'sewage leakage'}) (input_keys={'question'}), Prediction(\n",
      "    rationale='determine the source of contamination. Fecal indicator bacteria, such as E. coli, are typically associated with the presence of fecal matter from warm-blooded animals. High concentrations of these bacteria in water suggest that the water has been contaminated by sewage or animal waste. This can occur through various pathways, including runoff from agricultural fields, leaking septic systems, or direct discharge from wastewater treatment facilities. Given the specific mention of fecal indicator bacteria, the most likely source of contamination is human or animal waste.',\n",
      "    answer='Sewage'\n",
      "), False), (Example({'question': 'what type of contamination is linked to the presence of legionella pneumophila in cooling towers?', 'answer': 'microbial contamination'}) (input_keys={'question'}), Prediction(\n",
      "    rationale='determine the source of contamination associated with legionella pneumophila. Legionella pneumophila is a bacterium that thrives in warm water environments, particularly in man-made water systems. Cooling towers, which are designed to dissipate heat from industrial processes or air conditioning systems, often contain water that can become stagnant or poorly maintained, creating an ideal habitat for this bacterium. The presence of legionella in cooling towers is typically linked to inadequate water treatment, lack of regular maintenance, or improper design that allows for water stagnation. Therefore, the primary source of contamination in this context is the cooling tower system itself.',\n",
      "    answer='Cooling towers'\n",
      "), False), (Example({'question': 'what type of contamination is linked to the presence of bisphenol a (bpa) in water?', 'answer': 'industrial waste'}) (input_keys={'question'}), Prediction(\n",
      "    rationale='determine the source of bisphenol A (BPA) contamination in water. BPA is a chemical commonly used in the production of plastics and resins, particularly polycarbonate plastics and epoxy resins. It is often found in products such as water bottles, food containers, and coatings for metal cans. When these products degrade or leach, BPA can enter water systems. Additionally, BPA can be released into the environment through industrial discharges and improper disposal of plastic waste. Given this context, the most likely source of BPA contamination in water is from plastic products and industrial activities.',\n",
      "    answer='Plastic waste'\n",
      "), False), (Example({'question': 'which type of contamination is associated with cryptosporidium outbreaks?', 'answer': 'microbial contamination'}) (input_keys={'question'}), Prediction(\n",
      "    rationale='determine the source of contamination associated with cryptosporidium outbreaks. Cryptosporidium is a protozoan parasite that is commonly found in water sources, particularly in areas where there is fecal contamination. It is often linked to agricultural runoff, sewage discharge, and contaminated drinking water supplies. Outbreaks typically occur in settings where water is not adequately treated or where there is a high density of livestock or human populations. Given these associations, the most likely source of contamination for cryptosporidium outbreaks is fecal matter from animals or humans.',\n",
      "    answer='Fecal matter'\n",
      "), False), (Example({'question': 'what type of contamination is linked to the presence of perfluorooctanesulfonic acid (pfos) in water?', 'answer': 'industrial waste'}) (input_keys={'question'}), Prediction(\n",
      "    rationale='determine the most likely source of contamination associated with perfluorooctanesulfonic acid (PFOS). PFOS is a type of perfluoroalkyl substance (PFAS) that is commonly used in various industrial applications and consumer products, such as firefighting foams, stain-resistant coatings, and food packaging. The presence of PFOS in water typically indicates contamination from industrial discharges, improper disposal of products containing PFOS, or runoff from areas where firefighting foams have been used. Given these associations, we can conclude that the primary source of PFOS contamination is likely linked to industrial activities or the use of firefighting foams.',\n",
      "    answer='Industrial discharge'\n",
      "), False), (Example({'question': 'which contamination source is associated with endocrine disruptors in water?', 'answer': 'industrial waste'}) (input_keys={'question'}), Prediction(\n",
      "    rationale='identify the common sources of endocrine disruptors in water. Endocrine disruptors are chemicals that can interfere with hormonal systems and are often found in various industrial and agricultural products. Common sources include agricultural runoff containing pesticides and fertilizers, wastewater from industrial processes, and leachate from landfills. Given these associations, I will consider which of these sources is most prevalent in contributing to water contamination with endocrine disruptors.',\n",
      "    answer='Agriculture'\n",
      "), False), (Example({'question': 'what is often responsible for elevated levels of selenium in agricultural areas?', 'answer': 'agricultural runoff'}) (input_keys={'question'}), Prediction(\n",
      "    rationale='determine the source of selenium contamination in agricultural areas. Selenium is a trace element that can be found in soil and water, but its elevated levels in agricultural contexts are often linked to specific practices. In many cases, the use of selenium-rich fertilizers or irrigation with selenium-laden water can lead to increased concentrations in the environment. Additionally, certain geological formations can naturally contain higher levels of selenium, which can be mobilized through agricultural activities. Therefore, the most likely source of elevated selenium levels in agricultural areas is related to the use of fertilizers or irrigation practices that introduce selenium into the soil and water systems.',\n",
      "    answer='Fertilizers'\n",
      "), False), (Example({'question': 'what is the primary concern when landfills are located near water sources?', 'answer': 'chemical spillage'}) (input_keys={'question'}), Prediction(\n",
      "    rationale='analyze the potential risks associated with landfills and their proximity to water sources. We know that landfills can leach harmful substances into the groundwater, especially if they are not properly lined or managed. Common contaminants from landfills include heavy metals, organic compounds, and leachate, which can contain a variety of toxic substances. The primary concern is that these contaminants can migrate into nearby water sources, posing risks to human health and the environment. Therefore, the main issue is the potential for water contamination due to leachate from the landfill.',\n",
      "    answer='Leachate'\n",
      "), False), (Example({'question': 'what is the primary concern when septic systems fail near water sources?', 'answer': 'sewage leakage'}) (input_keys={'question'}), Prediction(\n",
      "    rationale='determine the potential impacts of septic system failures on nearby water sources. When septic systems fail, they can release untreated sewage into the surrounding environment. This can lead to the contamination of groundwater and surface water with pathogens, nutrients, and chemicals typically found in human waste. The primary concerns include the introduction of bacteria, viruses, and nitrates into the water supply, which can pose serious health risks to humans and aquatic life. Given that septic systems are designed to treat household waste, their failure is directly associated with the release of these contaminants into nearby water bodies.',\n",
      "    answer='Septic systems'\n",
      "), False), (Example({'question': 'what is the primary concern when paint manufacturing plants are near water sources?', 'answer': 'chemical spillage'}) (input_keys={'question'}), Prediction(\n",
      "    rationale='analyze the potential contaminants associated with paint manufacturing. Paints often contain a variety of chemicals, including heavy metals (like lead and cadmium), solvents (such as toluene and xylene), and other organic compounds. These substances can leach into nearby water sources through runoff, spills, or improper disposal. Given the nature of these chemicals and their known environmental impacts, the primary concern would be the contamination of water with toxic heavy metals and organic solvents that can harm aquatic life and pose health risks to humans.',\n",
      "    answer='Heavy metals'\n",
      "), False), (Example({'question': 'which contaminant is most likely if water contains high levels of polycyclic aromatic hydrocarbons (pahs)?', 'answer': 'industrial waste'}) (input_keys={'question'}), Prediction(\n",
      "    rationale='determine the most likely source of contamination. Polycyclic aromatic hydrocarbons (PAHs) are organic compounds that typically arise from the incomplete combustion of organic matter. Common sources include vehicle emissions, industrial discharges, and the burning of fossil fuels. Additionally, PAHs can be found in coal tar, asphalt, and certain types of oil. Given these associations, the presence of high levels of PAHs in water suggests contamination from activities related to combustion processes or industrial activities.',\n",
      "    answer='Industrial runoff'\n",
      "), False), (Example({'question': 'what is often responsible for elevated levels of arsenic in areas with volcanic bedrock?', 'answer': 'natural contaminants'}) (input_keys={'question'}), Prediction(\n",
      "    rationale='determine the source of elevated arsenic levels. Arsenic is a naturally occurring element that can be found in various geological formations, including volcanic bedrock. When volcanic activity occurs, it can release arsenic into the surrounding environment, particularly in areas where the bedrock is rich in arsenic-bearing minerals. Additionally, volcanic eruptions can lead to the leaching of arsenic into groundwater sources. Therefore, the presence of volcanic bedrock is a significant factor in the elevation of arsenic levels in those areas.',\n",
      "    answer='Volcanic activity'\n",
      "), False), (Example({'question': 'what type of contamination is linked to high levels of atrazine in water?', 'answer': 'agricultural runoff'}) (input_keys={'question'}), Prediction(\n",
      "    rationale='determine the source of atrazine contamination. Atrazine is a widely used herbicide, primarily in agricultural settings, particularly for corn crops. Its presence in water typically indicates runoff from agricultural fields where it has been applied. Additionally, atrazine can leach into groundwater, especially in areas with sandy soils or high rainfall. Given these associations, the most likely source of contamination is agricultural runoff.',\n",
      "    answer='Agriculture'\n",
      "), False), (Example({'question': 'which contaminant is most likely if water has a high concentration of cryptosporidium oocysts?', 'answer': 'microbial contamination'}) (input_keys={'question'}), Prediction(\n",
      "    rationale='determine the source of contamination. Cryptosporidium oocysts are a type of protozoan parasite that can cause gastrointestinal illness in humans. They are typically associated with water that has been contaminated by fecal matter, particularly from animals or humans. Common sources of such contamination include agricultural runoff, wastewater discharge, and improperly treated drinking water. Given that Cryptosporidium is often found in surface water sources, such as rivers and lakes, which can be contaminated by livestock or wildlife, we can conclude that the primary source of contamination is likely related to animal feces.',\n",
      "    answer='Animal feces'\n",
      "), False), (Example({'question': 'what is the primary concern when tanneries are located near water sources?', 'answer': 'industrial waste'}) (input_keys={'question'}), Prediction(\n",
      "    rationale='produce the answer. We know that tanneries are industrial facilities that process animal hides to produce leather. This process typically involves the use of various chemicals, including chromium salts, which are used in tanning. These chemicals can be hazardous and are known to contaminate water sources if not managed properly. Additionally, tanneries may release other pollutants such as sulfides, heavy metals, and organic compounds into nearby water bodies. Given the context of tanneries and their operations, the primary concern is the potential for these toxic substances to leach into the water, posing risks to aquatic life and human health.',\n",
      "    answer='Tannery waste'\n",
      "), False), (Example({'question': 'what type of contamination is linked to high levels of copper in tap water?', 'answer': 'heavy metals'}) (input_keys={'question'}), Prediction(\n",
      "    rationale='determine the source of high copper levels in tap water. Copper is commonly associated with plumbing systems, particularly in older homes where copper pipes are used. When water sits in these pipes for extended periods, it can leach copper into the water supply. Additionally, copper can also come from corrosion of plumbing fixtures and fittings. Therefore, the most likely source of contamination is related to the plumbing infrastructure rather than industrial or agricultural sources.',\n",
      "    answer='Plumbing'\n",
      "), False), (Example({'question': 'which type of contamination is associated with mercury in fish-inhabited waters?', 'answer': 'industrial waste'}) (input_keys={'question'}), Prediction(\n",
      "    rationale='determine the source of mercury contamination in fish-inhabited waters. Mercury is a heavy metal that can enter aquatic environments through various pathways. Common sources include industrial discharges, mining activities, and atmospheric deposition from coal combustion. Once in the water, mercury can bioaccumulate in fish, leading to higher concentrations in larger predatory species. Given these associations, the most likely source of mercury contamination in fish-inhabited waters is industrial activities, particularly those related to mining and coal burning.',\n",
      "    answer='Industrial activities'\n",
      "), False), (Example({'question': 'which contaminant is most likely if water has a strong chemical odor?', 'answer': 'industrial waste'}) (input_keys={'question'}), Prediction(\n",
      "    rationale='determine the source of the strong chemical odor in the water. A strong chemical smell often indicates the presence of volatile organic compounds (VOCs), which are commonly associated with industrial activities, improper disposal of chemicals, or leaks from underground storage tanks. These compounds can originate from solvents, fuels, or other industrial chemicals. Given the context of a strong chemical odor, it is likely that the source is related to industrial contamination or chemical spills.',\n",
      "    answer='Industrial waste'\n",
      "), True), (Example({'question': 'which contamination source is associated with high levels of hexavalent chromium in water?', 'answer': 'industrial waste'}) (input_keys={'question'}), Prediction(\n",
      "    rationale='determine the source of contamination associated with hexavalent chromium. Hexavalent chromium is commonly linked to industrial processes, particularly those involving the use of chromium in metal plating, leather tanning, and the production of pigments. It can also leach into groundwater from hazardous waste sites or from the corrosion of chromium-containing materials. Given its industrial associations, we can conclude that the primary source of contamination is likely related to industrial activities or waste disposal practices.',\n",
      "    answer='Industrial activities'\n",
      "), False), (Example({'question': 'which type of contamination is associated with high levels of dichlorodiphenyltrichloroethane (ddt) in legacy agricultural areas?', 'answer': 'agricultural runoff'}) (input_keys={'question'}), Prediction(\n",
      "    rationale='analyze the context of DDT. DDT is a synthetic pesticide that was widely used in agriculture, particularly in the mid-20th century, before its ban in many countries due to its environmental persistence and harmful effects on wildlife and human health. High levels of DDT in legacy agricultural areas suggest that these areas were previously treated with this pesticide, leading to residual contamination in the soil and water. Therefore, the primary source of contamination is linked to historical agricultural practices that involved the use of DDT.',\n",
      "    answer='Agricultural practices'\n",
      "), False), (Example({'question': 'what is the primary concern when paper mills are located near water sources?', 'answer': 'industrial waste'}) (input_keys={'question'}), Prediction(\n",
      "    rationale='analyze the potential contaminants associated with paper mills. Paper mills typically use a variety of chemicals in their processes, including chlorine, which can lead to the release of dioxins and other harmful substances into nearby water sources. Additionally, the production process generates significant amounts of organic waste, which can deplete oxygen levels in the water and harm aquatic life. The effluents from these mills can also contain heavy metals and other toxic compounds. Therefore, the primary concern is the introduction of these pollutants into the water, which can have detrimental effects on both the environment and human health.',\n",
      "    answer='Industrial waste'\n",
      "), True), (Example({'question': 'which contaminant is most likely if water contains high levels of cyanobacterial toxins?', 'answer': 'agricultural runoff'}) (input_keys={'question'}), Prediction(\n",
      "    rationale='determine the source of contamination. Cyanobacterial toxins, such as microcystins, are typically produced by harmful algal blooms that occur in nutrient-rich water bodies. These blooms are often associated with excessive nutrient runoff, particularly nitrogen and phosphorus, from agricultural activities, wastewater discharge, and urban runoff. Therefore, the presence of high levels of cyanobacterial toxins in water suggests that the contamination is likely due to these nutrient inputs leading to algal growth.',\n",
      "    answer='Agricultural runoff'\n",
      "), True), (Example({'question': 'what type of contamination is linked to the presence of perchlorate in rocket fuel manufacturing areas?', 'answer': 'industrial waste'}) (input_keys={'question'}), Prediction(\n",
      "    rationale='analyze the presence of perchlorate and its typical sources. Perchlorate is a chemical commonly associated with rocket fuel and explosives. It is often found in areas where these materials are manufactured, tested, or disposed of. Given that the question specifically mentions rocket fuel manufacturing areas, it is reasonable to conclude that the contamination is directly linked to activities involving perchlorate. Therefore, the primary source of contamination in this context is related to the production and handling of rocket fuel.',\n",
      "    answer='Rocket fuel'\n",
      "), False), (Example({'question': 'what type of contamination is linked to the presence of mycobacterium avium complex in water systems?', 'answer': 'microbial contamination'}) (input_keys={'question'}), Prediction(\n",
      "    rationale='determine the source of contamination associated with mycobacterium avium complex (MAC). Mycobacterium avium complex is a group of bacteria commonly found in water and soil. It is often associated with biofilms in water distribution systems and can thrive in warm water environments, such as hot tubs, showers, and poorly maintained plumbing systems. The presence of MAC in water systems typically indicates issues related to water treatment and distribution, particularly in systems that are not adequately disinfected or maintained. Therefore, the most likely source of contamination is related to the water infrastructure and its maintenance.',\n",
      "    answer='Water systems'\n",
      "), False), (Example({'question': 'what is often responsible for elevated levels of bromide in coastal aquifers?', 'answer': 'natural contaminants'}) (input_keys={'question'}), Prediction(\n",
      "    rationale='determine the source of elevated bromide levels in coastal aquifers. Bromide is a naturally occurring ion that can also be associated with human activities. In coastal areas, one common source of elevated bromide levels is seawater intrusion, where saltwater from the ocean mixes with freshwater aquifers. Additionally, bromide can be introduced through the use of certain industrial processes, such as the use of brominated compounds in water treatment or oil and gas extraction. However, in the context of coastal aquifers, the most significant contributor is typically seawater intrusion due to the proximity to the ocean and the natural hydrological processes involved.',\n",
      "    answer='Seawater intrusion'\n",
      "), False), (Example({'question': 'what type of contamination is linked to the presence of vibrio cholerae in water?', 'answer': 'microbial contamination'}) (input_keys={'question'}), Prediction(\n",
      "    rationale='determine the source of contamination associated with Vibrio cholerae. This bacterium is primarily linked to waterborne diseases and is often found in contaminated water sources. It is typically associated with fecal contamination, which can occur due to inadequate sanitation, sewage discharge, or runoff from agricultural areas where livestock waste is present. Given that Vibrio cholerae is known to cause cholera, a disease that spreads through contaminated drinking water, the most likely source of contamination would be human or animal waste entering the water supply.',\n",
      "    answer='Fecal waste'\n",
      "), False), (Example({'question': 'which contaminant is most likely if water contains high levels of phthalates?', 'answer': 'industrial waste'}) (input_keys={'question'}), Prediction(\n",
      "    rationale='determine the source of contamination. Phthalates are a group of chemicals commonly used as plasticizers in the production of plastics, particularly polyvinyl chloride (PVC). They are often found in products such as toys, food packaging, and personal care items. High levels of phthalates in water typically indicate contamination from industrial sources or improper disposal of plastic products. Additionally, phthalates can leach into water systems from landfills or wastewater treatment plants where plastic waste is processed. Given this context, the most likely source of contamination is related to plastic production or disposal practices.',\n",
      "    answer='Plastic waste'\n",
      "), False), (Example({'question': 'what type of contamination is associated with algal blooms in lakes?', 'answer': 'agricultural runoff'}) (input_keys={'question'}), Prediction(\n",
      "    rationale='determine the source of contamination associated with algal blooms. Algal blooms are often caused by an excess of nutrients, particularly nitrogen and phosphorus, in the water. These nutrients can come from various sources, including agricultural runoff, wastewater discharge, and urban stormwater runoff. When fertilizers used in agriculture or landscaping are washed into lakes, they can lead to nutrient enrichment, promoting the growth of algae. Therefore, the primary source of contamination linked to algal blooms is typically related to nutrient pollution from these activities.',\n",
      "    answer='Nutrient runoff'\n",
      "), False), (Example({'question': 'which type of contamination is associated with high levels of glyphosate in suburban areas?', 'answer': 'agricultural runoff'}) (input_keys={'question'}), Prediction(\n",
      "    rationale='determine the source of glyphosate contamination. Glyphosate is a widely used herbicide, primarily in agricultural practices, but it is also commonly applied in suburban areas for lawn care, landscaping, and weed control. Its presence in high levels in suburban areas suggests that the contamination is likely due to residential or commercial use of herbicides rather than agricultural runoff from large farms. Therefore, the most likely source of contamination is the application of glyphosate in these suburban settings.',\n",
      "    answer='Herbicide use'\n",
      "), False), (Example({'question': 'which contamination source is associated with high levels of sulfates in water?', 'answer': 'industrial waste'}) (input_keys={'question'}), Prediction(\n",
      "    rationale='determine the likely source of high sulfate levels in water. Sulfates are commonly associated with several sources, including natural mineral deposits, industrial processes, and agricultural runoff. Specifically, high sulfate concentrations are often linked to the mining and processing of minerals, particularly those containing sulfide ores, as well as the use of fertilizers that contain sulfate compounds. Additionally, wastewater from industrial activities can contribute to elevated sulfate levels. Given these associations, the most probable source of high sulfate levels in water is industrial activities, particularly mining.',\n",
      "    answer='Industrial activities'\n",
      "), False), (Example({'question': 'what type of contamination is linked to high levels of manganese in water?', 'answer': 'natural contaminants'}) (input_keys={'question'}), Prediction(\n",
      "    rationale='determine the source of manganese contamination in water. Manganese is a naturally occurring element that can be found in soil and rocks, but elevated levels in water often indicate anthropogenic sources. Common sources of manganese contamination include industrial discharges, mining activities, and the use of manganese-containing fertilizers. Additionally, manganese can leach into groundwater from corroded pipes or from the natural weathering of manganese-rich minerals. Given these associations, we can conclude that the most likely source of high manganese levels in water is related to industrial activities or mining operations.',\n",
      "    answer='Industrial activities'\n",
      "), False), (Example({'question': 'which contaminant is most likely if water contains high levels of methemoglobin-forming compounds?', 'answer': 'agricultural runoff'}) (input_keys={'question'}), Prediction(\n",
      "    rationale='identify the source of contamination associated with methemoglobin-forming compounds. Methemoglobin is formed when hemoglobin in the blood is oxidized, which can occur due to exposure to certain chemicals. Common methemoglobin-forming compounds include nitrates and nitrites, which are often found in agricultural runoff, particularly from fertilizers. High levels of these compounds in water typically indicate contamination from agricultural activities, especially in areas where livestock waste or fertilizer is used extensively. Therefore, the presence of high levels of methemoglobin-forming compounds suggests that the water is likely contaminated by agricultural runoff.',\n",
      "    answer='Agriculture'\n",
      "), False), (Example({'question': 'what type of contamination is linked to the presence of hepatitis a virus in water?', 'answer': 'microbial contamination'}) (input_keys={'question'}), Prediction(\n",
      "    rationale='determine the source of contamination associated with the hepatitis A virus. Hepatitis A is primarily transmitted through the fecal-oral route, which means that its presence in water typically indicates that the water has been contaminated with fecal matter. This can occur due to inadequate sanitation, improper sewage disposal, or runoff from areas where human or animal waste is present. Therefore, the most likely source of contamination in this case is related to human or animal waste entering the water supply.',\n",
      "    answer='Fecal matter'\n",
      "), False), (Example({'question': 'what type of contamination is linked to the presence of coliform bacteria?', 'answer': 'sewage leakage'}) (input_keys={'question'}), Prediction(\n",
      "    rationale='determine the source of contamination associated with coliform bacteria. Coliform bacteria are commonly found in the intestines of warm-blooded animals and are often used as an indicator of fecal contamination in water. Their presence typically suggests that the water has been contaminated by sewage or animal waste. This can occur through various pathways, such as runoff from agricultural fields, leaking septic systems, or direct discharge from wastewater treatment facilities. Given this context, the most likely source of contamination linked to coliform bacteria is fecal matter.',\n",
      "    answer='Fecal matter'\n",
      "), False), (Example({'question': 'what is often responsible for the presence of microbeads in coastal waters?', 'answer': 'sewage leakage'}) (input_keys={'question'}), Prediction(\n",
      "    rationale='determine the source of microbeads in coastal waters. Microbeads are small plastic particles commonly found in personal care products such as exfoliating scrubs, toothpaste, and other cosmetics. When these products are used, the microbeads can wash down the drain and eventually make their way into waterways, including coastal areas. Additionally, microbeads can also originate from the breakdown of larger plastic debris in the ocean. However, the primary source is the direct discharge from wastewater treatment plants that do not filter out these small particles. Therefore, the presence of microbeads in coastal waters is primarily linked to consumer products that contain them.',\n",
      "    answer='Personal care products'\n",
      "), False), (Example({'question': 'what is the primary concern when pharmaceutical manufacturing plants are near water sources?', 'answer': 'chemical spillage'}) (input_keys={'question'}), Prediction(\n",
      "    rationale='determine the potential risks associated with pharmaceutical manufacturing plants and their proximity to water sources. Pharmaceutical manufacturing can lead to the release of various contaminants, including active pharmaceutical ingredients (APIs), solvents, and other chemicals used in the production process. These substances can enter nearby water bodies through improper waste disposal, leaks, or runoff. The presence of these contaminants can pose significant risks to aquatic ecosystems and human health, as they may disrupt endocrine systems, contribute to antibiotic resistance, and lead to bioaccumulation in wildlife. Therefore, the primary concern is the potential for water contamination from these hazardous substances.',\n",
      "    answer='Pharmaceuticals'\n",
      "), False), (Example({'question': 'what is the primary concern when gold mining operations are near water sources?', 'answer': 'heavy metals'}) (input_keys={'question'}), Prediction(\n",
      "    rationale='analyze the potential contaminants associated with gold mining. Gold mining often involves the use of toxic chemicals such as mercury and cyanide, which are used to extract gold from ore. These substances can leach into nearby water sources, leading to contamination. Additionally, sediment runoff from mining sites can introduce heavy metals and other pollutants into the water. Therefore, the primary concern is the introduction of these harmful chemicals into the aquatic ecosystem, which can have detrimental effects on both wildlife and human health.',\n",
      "    answer='Mercury/Cyanide'\n",
      "), False), (Example({'question': 'what type of contamination is linked to the presence of chlorate in water treated with chlorine dioxide?', 'answer': 'chemical spillage'}) (input_keys={'question'}), Prediction(\n",
      "    rationale='determine the source of chlorate contamination. Chlorate is a byproduct that can form when chlorine dioxide is used as a disinfectant in water treatment processes. It is typically associated with the disinfection of drinking water, where chlorine dioxide is applied to eliminate pathogens. The presence of chlorate indicates that chlorine dioxide was used, and it can also suggest that there may be residual chlorine or other related compounds in the water. Therefore, the most likely source of contamination is linked to the water treatment process itself, specifically the use of chlorine dioxide.',\n",
      "    answer='Water treatment'\n",
      "), False), (Example({'question': 'what type of contamination is linked to the presence of pharmaceuticals in water?', 'answer': 'sewage leakage'}) (input_keys={'question'}), Prediction(\n",
      "    rationale='analyze the potential sources of pharmaceuticals in water. Pharmaceuticals often enter water systems through various pathways, including wastewater treatment plants, where human waste containing these substances is processed. Additionally, improper disposal of medications, such as flushing them down the toilet or pouring them down the drain, can also contribute to their presence in water bodies. Given these common sources, it is clear that the primary source of pharmaceutical contamination in water is related to human activities, particularly through wastewater and improper disposal methods.',\n",
      "    answer='Wastewater'\n",
      "), False), (Example({'question': 'which category of contamination includes naturally occurring radium in deep aquifers?', 'answer': 'natural contaminants'}) (input_keys={'question'}), Prediction(\n",
      "    rationale='determine the source of contamination. We know that radium is a naturally occurring radioactive element that can be found in certain geological formations, particularly in deep aquifers. This suggests that the contamination is not due to human activities but rather from the natural environment. Radium can leach into groundwater from rocks and soil that contain uranium, which decays into radium over time. Therefore, the primary source of contamination in this case is the geological formations surrounding the aquifer.',\n",
      "    answer='Natural sources'\n",
      "), False), (Example({'question': 'what type of contamination is linked to high levels of cadmium in water?', 'answer': 'heavy metals'}) (input_keys={'question'}), Prediction(\n",
      "    rationale='determine the source of cadmium contamination in water. Cadmium is a heavy metal that is often associated with industrial processes, particularly those involving metal plating, battery manufacturing, and mining activities. It can also leach into water from agricultural runoff, especially from the use of phosphate fertilizers that contain cadmium as an impurity. Given these associations, we can conclude that the most likely source of cadmium contamination in water is industrial activities or agricultural runoff.',\n",
      "    answer='Industrial activities'\n",
      "), False)])\n"
     ]
    }
   ],
   "source": [
    "evaluate_prg = Evaluate(\n",
    "    devset=test_set,\n",
    "    metric=answer_exact_match,\n",
    "    num_threads=4,\n",
    "    display_progress=True,\n",
    "    display_table=10,\n",
    "    return_outputs=True\n",
    ")\n",
    "\n",
    "eval_compiled = evaluate_prg(compiled_teleprompter)\n",
    "print(eval_compiled)"
   ]
  },
  {
   "cell_type": "markdown",
   "metadata": {},
   "source": [
    "## So MIPRO Failed...."
   ]
  },
  {
   "cell_type": "code",
   "execution_count": null,
   "metadata": {},
   "outputs": [],
   "source": []
  },
  {
   "cell_type": "code",
   "execution_count": null,
   "metadata": {},
   "outputs": [],
   "source": []
  },
  {
   "cell_type": "code",
   "execution_count": null,
   "metadata": {},
   "outputs": [],
   "source": []
  },
  {
   "cell_type": "code",
   "execution_count": 23,
   "metadata": {},
   "outputs": [],
   "source": [
    "class PredictModelSuggest(dspy.Module):\n",
    "    def __init__(self):\n",
    "        self.predict = dspy.ChainOfThought(ReferenceAnswer)\n",
    "        \n",
    "    def forward(self, question):\n",
    "        output = self.predict(question=question)\n",
    "        dspy.Suggest(\n",
    "            output.answer.lower() in [\"agricultural runoff\", \"chemical spillage\", \"natural contaminants\", \"industrial waste\", \"heavy metals\", \"microbial contamination\", \"sewage leakage\"],\n",
    "            \"Answer can only be one of the following: Agricultural Runoff, Chemical Spillage, Natural Contaminants, Industrial Waste, Heavy Metals, Microbial Contamination, Sewage Leakage\"\n",
    "        )\n",
    "        return dspy.Prediction(answer=output.answer)\n",
    "    \n",
    "predict_suggest = PredictModelSuggest().activate_assertions()\n",
    "res = predict_suggest(\"Which category of contamination includes naturally occurring vanadium in certain groundwater sources?\")\n"
   ]
  },
  {
   "cell_type": "code",
   "execution_count": 24,
   "metadata": {},
   "outputs": [
    {
     "name": "stdout",
     "output_type": "stream",
     "text": [
      "Natural Contaminants\n"
     ]
    }
   ],
   "source": [
    "print(res.answer) ### Actual Answer: Natural Contaminants"
   ]
  }
 ],
 "metadata": {
  "kernelspec": {
   "display_name": "venv",
   "language": "python",
   "name": "python3"
  },
  "language_info": {
   "codemirror_mode": {
    "name": "ipython",
    "version": 3
   },
   "file_extension": ".py",
   "mimetype": "text/x-python",
   "name": "python",
   "nbconvert_exporter": "python",
   "pygments_lexer": "ipython3",
   "version": "3.12.3"
  }
 },
 "nbformat": 4,
 "nbformat_minor": 2
}
