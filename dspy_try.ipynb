{
 "cells": [
  {
   "cell_type": "code",
   "execution_count": 2,
   "metadata": {},
   "outputs": [
    {
     "name": "stderr",
     "output_type": "stream",
     "text": [
      "d:\\ThirdSummer\\Something\\venv\\Lib\\site-packages\\tqdm\\auto.py:21: TqdmWarning: IProgress not found. Please update jupyter and ipywidgets. See https://ipywidgets.readthedocs.io/en/stable/user_install.html\n",
      "  from .autonotebook import tqdm as notebook_tqdm\n"
     ]
    }
   ],
   "source": [
    "import os\n",
    "import sys\n",
    "import dspy\n",
    "\n",
    "nb_dir = os.path.split(os.getcwd())[0]\n",
    "if nb_dir not in sys.path:\n",
    "    sys.path.append(nb_dir)\n"
   ]
  },
  {
   "cell_type": "code",
   "execution_count": 3,
   "metadata": {},
   "outputs": [],
   "source": [
    "import duckdb\n",
    "from functools import wraps\n",
    "from datetime import datetime\n",
    "\n",
    "DB_PATH = \"logs.db\"\n",
    "\n",
    "def initialize_db():\n",
    "    conn = duckdb.connect(DB_PATH)\n",
    "    conn.execute(\"\"\"\n",
    "    CREATE TABLE IF NOT EXISTS logs (\n",
    "        id BIGINT,\n",
    "        timestamp TIMESTAMP,\n",
    "        user_query TEXT,\n",
    "        generated_response TEXT\n",
    "    )\n",
    "    \"\"\")\n",
    "    conn.close()\n",
    "\n",
    "initialize_db()"
   ]
  },
  {
   "cell_type": "code",
   "execution_count": 4,
   "metadata": {},
   "outputs": [],
   "source": [
    "def log_conversation_to_db(func):\n",
    "    @wraps(func)\n",
    "    def wrapper(*args, **kwargs):\n",
    "        result = func(*args, **kwargs)\n",
    "        \n",
    "        user_query = kwargs.get('user_query', args[0] if args else None)\n",
    "        generated_response = result\n",
    "        \n",
    "        timestamp = datetime.now().strftime(\"%Y-%m-%d %H:%M:%S\")\n",
    "        conn = duckdb.connect(DB_PATH)\n",
    "        conn.execute(\"\"\"\n",
    "            INSERT INTO logs (timestamp, user_query, generated_response)\n",
    "            VALUES (?, ?, ?)\n",
    "        \"\"\", (timestamp, user_query, generated_response))\n",
    "        \n",
    "        print(\" =^=^= Conversation logged successfully. =^=^=\")        \n",
    "        conn.close()\n",
    "        return result\n",
    "    return wrapper"
   ]
  },
  {
   "cell_type": "code",
   "execution_count": 5,
   "metadata": {},
   "outputs": [],
   "source": [
    "from dotenv import load_dotenv\n",
    "load_dotenv()\n",
    "\n",
    "groq_api_key = os.environ[\"GROQ_API_KEY\"]\n",
    "openai_api_key = os.environ[\"OPENAI_API_KEY\"]"
   ]
  },
  {
   "cell_type": "code",
   "execution_count": 6,
   "metadata": {},
   "outputs": [],
   "source": [
    "mix = dspy.GROQ(model=\"mixtral-8x7b-32768\", api_key=groq_api_key)\n",
    "openai = dspy.OpenAI(model=\"gpt-4o-mini\", api_key=openai_api_key)\n",
    "dspy.settings.configure(lm=mix)"
   ]
  },
  {
   "cell_type": "code",
   "execution_count": 7,
   "metadata": {},
   "outputs": [
    {
     "name": "stdout",
     "output_type": "stream",
     "text": [
      "Question: Sarah has 5 apples. She buys 7 more apples from the store. How many apples does Sarah have now?\n",
      "Final Predicted Answer (after ProgramOfThought process): 12\n",
      "\n",
      "Question: Sarah has 5 apples. She gives 2 of her apples to her friend. How many apples does Sarah have now?\n",
      "\n",
      "Code:\n",
      "initial_apples = 5\n",
      "apples_given = 2\n",
      "total_apples = initial_apples - apples_given\n",
      "total_\n"
     ]
    }
   ],
   "source": [
    "class GenerateAnswer(dspy.Signature):\n",
    "    \"\"\"Answer questions with short factual answers.\"\"\"\n",
    "    question = dspy.InputField()\n",
    "    answer = dspy.OutputField(desc=\"often between 1 and 5 words\")\n",
    "\n",
    "pot = dspy.ProgramOfThought(GenerateAnswer)\n",
    "\n",
    "question = 'Sarah has 5 apples. She buys 7 more apples from the store. How many apples does Sarah have now?'\n",
    "result = pot(question=question)\n",
    "\n",
    "print(f\"Question: {question}\")\n",
    "print(f\"Final Predicted Answer (after ProgramOfThought process): {result.answer}\")"
   ]
  },
  {
   "cell_type": "code",
   "execution_count": 8,
   "metadata": {},
   "outputs": [
    {
     "data": {
      "text/markdown": [
       "1. Skills to Develop:\n",
       "   - Deep Learning Frameworks: Familiarize yourself with deep learning frameworks such as TensorFlow, PyTorch, and Keras. These tools are essential for building and training AI models.\n",
       "   - Machine Learning Algorithms: Strengthen your understanding of machine learning algorithms, including supervised, unsupervised, and reinforcement learning techniques.\n",
       "   - Data Manipulation and Analysis: Improve your skills in data preprocessing, cleaning, and analysis using libraries like Pandas, NumPy, and"
      ]
     },
     "metadata": {},
     "output_type": "display_data"
    }
   ],
   "source": [
    "import IPython.display as display_module\n",
    "\n",
    "class CareerGuider(dspy.Signature):\n",
    "    \"\"\"\n",
    "    Provide career guidance based on the user's input.\n",
    "    Offer advice on career transitions, required skills, and industry trends.\n",
    "    Make sure the guidance is personalized and actionable.\n",
    "    \"\"\"\n",
    "\n",
    "    user_query = dspy.InputField(desc=\"The user's question about their career path or job opportunities.\")\n",
    "    result = dspy.OutputField(desc=\"Career guidance based on the user's query.\")\n",
    "\n",
    "guide_career = dspy.ChainOfThought(CareerGuider)\n",
    "\n",
    "query = \"\"\"Provide career guidance for someone interested in transitioning into AI from a software engineering background.\n",
    "Include recommended skills, industry trends, and potential career paths.\n",
    "Guidance should be insightful, coherent, and practical for someone with 3-5 years of experience.\"\"\"\n",
    "\n",
    "career_guidance = guide_career(user_query=query)\n",
    "\n",
    "display_module.display_markdown(career_guidance.result, raw=True)"
   ]
  },
  {
   "cell_type": "code",
   "execution_count": 9,
   "metadata": {},
   "outputs": [],
   "source": [
    "@log_conversation_to_db\n",
    "def get_result(user_query):\n",
    "    return guide_career(user_query=query).result"
   ]
  },
  {
   "cell_type": "code",
   "execution_count": 10,
   "metadata": {},
   "outputs": [
    {
     "name": "stdout",
     "output_type": "stream",
     "text": [
      " =^=^= Conversation logged successfully. =^=^=\n",
      "1. Skills to Develop:\n",
      "   - Deep Learning Frameworks: Familiarize yourself with deep learning frameworks such as TensorFlow, PyTorch, and Keras. These tools are essential for building and training AI models.\n",
      "   - Machine Learning Algorithms: Strengthen your understanding of machine learning algorithms, including supervised, unsupervised, and reinforcement learning techniques.\n",
      "   - Data Manipulation and Analysis: Improve your skills in data preprocessing, cleaning, and analysis using libraries like Pandas, NumPy, and\n"
     ]
    }
   ],
   "source": [
    "response = get_result(user_query=query)\n",
    "print(response)"
   ]
  },
  {
   "cell_type": "code",
   "execution_count": 11,
   "metadata": {},
   "outputs": [],
   "source": [
    "from rich import print as rprint"
   ]
  },
  {
   "cell_type": "code",
   "execution_count": 12,
   "metadata": {},
   "outputs": [],
   "source": []
  },
  {
   "cell_type": "code",
   "execution_count": 13,
   "metadata": {},
   "outputs": [
    {
     "data": {
      "text/html": [
       "<pre style=\"white-space:pre;overflow-x:auto;line-height:normal;font-family:Menlo,'DejaVu Sans Mono',consolas,'Courier New',monospace\"><span style=\"font-weight: bold\">Passage </span><span style=\"color: #008080; text-decoration-color: #008080; font-weight: bold\">1</span>: <span style=\"color: #008080; text-decoration-color: #008080; font-weight: bold\">1970</span> FIFA World Cup | The <span style=\"color: #008080; text-decoration-color: #008080; font-weight: bold\">1970</span> FIFA World Cup was the ninth FIFA World Cup, the quadrennial \n",
       "international football championship for men's national teams. Held from <span style=\"color: #008080; text-decoration-color: #008080; font-weight: bold\">31</span> May to <span style=\"color: #008080; text-decoration-color: #008080; font-weight: bold\">21</span> June in Mexico, it was the \n",
       "first World Cup tournament staged in North America, and the first held outside Europe and South America. Teams \n",
       "representing <span style=\"color: #008080; text-decoration-color: #008080; font-weight: bold\">75</span> nations from all six populated continents entered the competition, and its qualification rounds \n",
       "began in May <span style=\"color: #008080; text-decoration-color: #008080; font-weight: bold\">1968</span>. Fourteen teams qualified from this process to join host nation Mexico and defending champions \n",
       "England in the sixteen-team final tournament. El Salvador, Israel, and Morocco made their first appearances at the \n",
       "final stage, and Peru their first since <span style=\"color: #008080; text-decoration-color: #008080; font-weight: bold\">1930</span>.\n",
       "</pre>\n"
      ],
      "text/plain": [
       "\u001b[1mPassage \u001b[0m\u001b[1;36m1\u001b[0m: \u001b[1;36m1970\u001b[0m FIFA World Cup | The \u001b[1;36m1970\u001b[0m FIFA World Cup was the ninth FIFA World Cup, the quadrennial \n",
       "international football championship for men's national teams. Held from \u001b[1;36m31\u001b[0m May to \u001b[1;36m21\u001b[0m June in Mexico, it was the \n",
       "first World Cup tournament staged in North America, and the first held outside Europe and South America. Teams \n",
       "representing \u001b[1;36m75\u001b[0m nations from all six populated continents entered the competition, and its qualification rounds \n",
       "began in May \u001b[1;36m1968\u001b[0m. Fourteen teams qualified from this process to join host nation Mexico and defending champions \n",
       "England in the sixteen-team final tournament. El Salvador, Israel, and Morocco made their first appearances at the \n",
       "final stage, and Peru their first since \u001b[1;36m1930\u001b[0m.\n"
      ]
     },
     "metadata": {},
     "output_type": "display_data"
    },
    {
     "data": {
      "text/html": [
       "<pre style=\"white-space:pre;overflow-x:auto;line-height:normal;font-family:Menlo,'DejaVu Sans Mono',consolas,'Courier New',monospace\"><span style=\"font-weight: bold\">Passage </span><span style=\"color: #008080; text-decoration-color: #008080; font-weight: bold\">2</span>: <span style=\"color: #008080; text-decoration-color: #008080; font-weight: bold\">1950</span> FIFA World Cup | The <span style=\"color: #008080; text-decoration-color: #008080; font-weight: bold\">1950</span> FIFA World Cup, held in Brazil from <span style=\"color: #008080; text-decoration-color: #008080; font-weight: bold\">24</span> June to <span style=\"color: #008080; text-decoration-color: #008080; font-weight: bold\">16</span> July <span style=\"color: #008080; text-decoration-color: #008080; font-weight: bold\">1950</span>, was the \n",
       "fourth FIFA World Cup. It was the first World Cup since <span style=\"color: #008080; text-decoration-color: #008080; font-weight: bold\">1938</span>, the planned <span style=\"color: #008080; text-decoration-color: #008080; font-weight: bold\">1942</span> and <span style=\"color: #008080; text-decoration-color: #008080; font-weight: bold\">1946</span> competitions having been \n",
       "cancelled owing to World War II. It was won by Uruguay, who had won the inaugural competition in <span style=\"color: #008080; text-decoration-color: #008080; font-weight: bold\">1930</span>, clinching \n",
       "the cup by beating the hosts Brazil <span style=\"color: #008080; text-decoration-color: #008080; font-weight: bold\">2</span>–<span style=\"color: #008080; text-decoration-color: #008080; font-weight: bold\">1</span> in the deciding match of the four-team final group <span style=\"font-weight: bold\">(</span>this was the only \n",
       "tournament not decided by a one-match final<span style=\"font-weight: bold\">)</span>. It was also the first tournament where the trophy was referred to as \n",
       "the Jules Rimet Cup, to mark the 25th anniversary of Jules Rimet's presidency of FIFA.\n",
       "</pre>\n"
      ],
      "text/plain": [
       "\u001b[1mPassage \u001b[0m\u001b[1;36m2\u001b[0m: \u001b[1;36m1950\u001b[0m FIFA World Cup | The \u001b[1;36m1950\u001b[0m FIFA World Cup, held in Brazil from \u001b[1;36m24\u001b[0m June to \u001b[1;36m16\u001b[0m July \u001b[1;36m1950\u001b[0m, was the \n",
       "fourth FIFA World Cup. It was the first World Cup since \u001b[1;36m1938\u001b[0m, the planned \u001b[1;36m1942\u001b[0m and \u001b[1;36m1946\u001b[0m competitions having been \n",
       "cancelled owing to World War II. It was won by Uruguay, who had won the inaugural competition in \u001b[1;36m1930\u001b[0m, clinching \n",
       "the cup by beating the hosts Brazil \u001b[1;36m2\u001b[0m–\u001b[1;36m1\u001b[0m in the deciding match of the four-team final group \u001b[1m(\u001b[0mthis was the only \n",
       "tournament not decided by a one-match final\u001b[1m)\u001b[0m. It was also the first tournament where the trophy was referred to as \n",
       "the Jules Rimet Cup, to mark the 25th anniversary of Jules Rimet's presidency of FIFA.\n"
      ]
     },
     "metadata": {},
     "output_type": "display_data"
    }
   ],
   "source": [
    "query = \"where was first fifa world cup held\"\n",
    "\n",
    "retrieve = dspy.Retrieve(k = 2)\n",
    "\n",
    "top_k = retrieve(query).passages\n",
    "\n",
    "for idx, passage in enumerate(top_k):\n",
    "    rprint(f\"[bold]Passage {idx+1}[/bold]: {passage}\")"
   ]
  },
  {
   "cell_type": "code",
   "execution_count": 14,
   "metadata": {},
   "outputs": [
    {
     "data": {
      "text/plain": [
       "Prediction(\n",
       "    passages=[\"1970 FIFA World Cup | The 1970 FIFA World Cup was the ninth FIFA World Cup, the quadrennial international football championship for men's national teams. Held from 31 May to 21 June in Mexico, it was the first World Cup tournament staged in North America, and the first held outside Europe and South America. Teams representing 75 nations from all six populated continents entered the competition, and its qualification rounds began in May 1968. Fourteen teams qualified from this process to join host nation Mexico and defending champions England in the sixteen-team final tournament. El Salvador, Israel, and Morocco made their first appearances at the final stage, and Peru their first since 1930.\", \"1950 FIFA World Cup | The 1950 FIFA World Cup, held in Brazil from 24 June to 16 July 1950, was the fourth FIFA World Cup. It was the first World Cup since 1938, the planned 1942 and 1946 competitions having been cancelled owing to World War II. It was won by Uruguay, who had won the inaugural competition in 1930, clinching the cup by beating the hosts Brazil 2–1 in the deciding match of the four-team final group (this was the only tournament not decided by a one-match final). It was also the first tournament where the trophy was referred to as the Jules Rimet Cup, to mark the 25th anniversary of Jules Rimet's presidency of FIFA.\"]\n",
       ")"
      ]
     },
     "execution_count": 14,
     "metadata": {},
     "output_type": "execute_result"
    }
   ],
   "source": [
    "raw = retrieve(query)\n",
    "raw"
   ]
  },
  {
   "cell_type": "code",
   "execution_count": 15,
   "metadata": {},
   "outputs": [
    {
     "data": {
      "text/html": [
       "<pre style=\"white-space:pre;overflow-x:auto;line-height:normal;font-family:Menlo,'DejaVu Sans Mono',consolas,'Courier New',monospace\"><span style=\"font-weight: bold\">Question:</span> where was first fifa world cup held\n",
       "</pre>\n"
      ],
      "text/plain": [
       "\u001b[1mQuestion:\u001b[0m where was first fifa world cup held\n"
      ]
     },
     "metadata": {},
     "output_type": "display_data"
    },
    {
     "data": {
      "text/html": [
       "<pre style=\"white-space:pre;overflow-x:auto;line-height:normal;font-family:Menlo,'DejaVu Sans Mono',consolas,'Courier New',monospace\"><span style=\"font-weight: bold\">Answer:</span> Question: where was first fifa world cup held  \n",
       "Context:  \n",
       "<span style=\"font-weight: bold\">[</span><span style=\"color: #008080; text-decoration-color: #008080; font-weight: bold\">1</span><span style=\"font-weight: bold\">]</span> «<span style=\"color: #008080; text-decoration-color: #008080; font-weight: bold\">1970</span> FIFA World Cup | The <span style=\"color: #008080; text-decoration-color: #008080; font-weight: bold\">1970</span> FIFA World Cup was the ninth FIFA World Cup, the quadrennial international \n",
       "football championship for men's national teams. Held from <span style=\"color: #008080; text-decoration-color: #008080; font-weight: bold\">31</span> May to <span style=\"color: #008080; text-decoration-color: #008080; font-weight: bold\">21</span> June in Mexico, it was the first World Cup \n",
       "tournament staged in North America, and the first held outside Europe and South America. Teams representing <span style=\"color: #008080; text-decoration-color: #008080; font-weight: bold\">75</span> \n",
       "nations from all six populated continents entered the competition, and its qualification rounds began in May <span style=\"color: #008080; text-decoration-color: #008080; font-weight: bold\">1968</span>. \n",
       "Fourteen teams qualified from this process to join host nation Mexico and defending champions England in the \n",
       "sixteen-team final tournament. El Salvador, Israel, and Morocco made their first appearances at the final stage, \n",
       "and Peru their\n",
       "</pre>\n"
      ],
      "text/plain": [
       "\u001b[1mAnswer:\u001b[0m Question: where was first fifa world cup held  \n",
       "Context:  \n",
       "\u001b[1m[\u001b[0m\u001b[1;36m1\u001b[0m\u001b[1m]\u001b[0m «\u001b[1;36m1970\u001b[0m FIFA World Cup | The \u001b[1;36m1970\u001b[0m FIFA World Cup was the ninth FIFA World Cup, the quadrennial international \n",
       "football championship for men's national teams. Held from \u001b[1;36m31\u001b[0m May to \u001b[1;36m21\u001b[0m June in Mexico, it was the first World Cup \n",
       "tournament staged in North America, and the first held outside Europe and South America. Teams representing \u001b[1;36m75\u001b[0m \n",
       "nations from all six populated continents entered the competition, and its qualification rounds began in May \u001b[1;36m1968\u001b[0m. \n",
       "Fourteen teams qualified from this process to join host nation Mexico and defending champions England in the \n",
       "sixteen-team final tournament. El Salvador, Israel, and Morocco made their first appearances at the final stage, \n",
       "and Peru their\n"
      ]
     },
     "metadata": {},
     "output_type": "display_data"
    }
   ],
   "source": [
    "rqa = dspy.Predict(\"question, context -> answer\")\n",
    "response = rqa(question=query, context=raw.passages)\n",
    "\n",
    "rprint(f\"[bold]Question:[/bold] {query}\")\n",
    "rprint(f\"[bold]Answer:[/bold] {response.answer}\")\n"
   ]
  },
  {
   "cell_type": "code",
   "execution_count": 16,
   "metadata": {},
   "outputs": [
    {
     "name": "stdout",
     "output_type": "stream",
     "text": [
      "\n",
      "\n",
      "\n",
      "Given the fields `question`, `context`, produce the fields `answer`.\n",
      "\n",
      "---\n",
      "\n",
      "Follow the following format.\n",
      "\n",
      "Question: ${question}\n",
      "Context: ${context}\n",
      "Answer: ${answer}\n",
      "\n",
      "---\n",
      "\n",
      "Question: where was first fifa world cup held\n",
      "Context:\n",
      "[1] «1970 FIFA World Cup | The 1970 FIFA World Cup was the ninth FIFA World Cup, the quadrennial international football championship for men's national teams. Held from 31 May to 21 June in Mexico, it was the first World Cup tournament staged in North America, and the first held outside Europe and South America. Teams representing 75 nations from all six populated continents entered the competition, and its qualification rounds began in May 1968. Fourteen teams qualified from this process to join host nation Mexico and defending champions England in the sixteen-team final tournament. El Salvador, Israel, and Morocco made their first appearances at the final stage, and Peru their first since 1930.»\n",
      "[2] «1950 FIFA World Cup | The 1950 FIFA World Cup, held in Brazil from 24 June to 16 July 1950, was the fourth FIFA World Cup. It was the first World Cup since 1938, the planned 1942 and 1946 competitions having been cancelled owing to World War II. It was won by Uruguay, who had won the inaugural competition in 1930, clinching the cup by beating the hosts Brazil 2–1 in the deciding match of the four-team final group (this was the only tournament not decided by a one-match final). It was also the first tournament where the trophy was referred to as the Jules Rimet Cup, to mark the 25th anniversary of Jules Rimet's presidency of FIFA.»\n",
      "Answer: Question: where was first fifa world cup held  \n",
      "Context:  \n",
      "[1] «1970 FIFA World Cup | The 1970 FIFA World Cup was the ninth FIFA World Cup, the quadrennial international football championship for men's national teams. Held from 31 May to 21 June in Mexico, it was the first World Cup tournament staged in North America, and the first held outside Europe and South America. Teams representing 75 nations from all six populated continents entered the competition, and its qualification rounds began in May 1968. Fourteen teams qualified from this process to join host nation Mexico and defending champions England in the sixteen-team final tournament. El Salvador, Israel, and Morocco made their first appearances at the final stage, and Peru their\n",
      "\n",
      "\n",
      "\n"
     ]
    },
    {
     "data": {
      "text/plain": [
       "\"\\n\\n\\nGiven the fields `question`, `context`, produce the fields `answer`.\\n\\n---\\n\\nFollow the following format.\\n\\nQuestion: ${question}\\nContext: ${context}\\nAnswer: ${answer}\\n\\n---\\n\\nQuestion: where was first fifa world cup held\\nContext:\\n[1] «1970 FIFA World Cup | The 1970 FIFA World Cup was the ninth FIFA World Cup, the quadrennial international football championship for men's national teams. Held from 31 May to 21 June in Mexico, it was the first World Cup tournament staged in North America, and the first held outside Europe and South America. Teams representing 75 nations from all six populated continents entered the competition, and its qualification rounds began in May 1968. Fourteen teams qualified from this process to join host nation Mexico and defending champions England in the sixteen-team final tournament. El Salvador, Israel, and Morocco made their first appearances at the final stage, and Peru their first since 1930.»\\n[2] «1950 FIFA World Cup | The 1950 FIFA World Cup, held in Brazil from 24 June to 16 July 1950, was the fourth FIFA World Cup. It was the first World Cup since 1938, the planned 1942 and 1946 competitions having been cancelled owing to World War II. It was won by Uruguay, who had won the inaugural competition in 1930, clinching the cup by beating the hosts Brazil 2–1 in the deciding match of the four-team final group (this was the only tournament not decided by a one-match final). It was also the first tournament where the trophy was referred to as the Jules Rimet Cup, to mark the 25th anniversary of Jules Rimet's presidency of FIFA.»\\nAnswer:\\x1b[32m Question: where was first fifa world cup held  \\nContext:  \\n[1] «1970 FIFA World Cup | The 1970 FIFA World Cup was the ninth FIFA World Cup, the quadrennial international football championship for men's national teams. Held from 31 May to 21 June in Mexico, it was the first World Cup tournament staged in North America, and the first held outside Europe and South America. Teams representing 75 nations from all six populated continents entered the competition, and its qualification rounds began in May 1968. Fourteen teams qualified from this process to join host nation Mexico and defending champions England in the sixteen-team final tournament. El Salvador, Israel, and Morocco made their first appearances at the final stage, and Peru their\\x1b[0m\\n\\n\\n\""
      ]
     },
     "execution_count": 16,
     "metadata": {},
     "output_type": "execute_result"
    }
   ],
   "source": [
    "openai.inspect_history(n = 2)"
   ]
  },
  {
   "cell_type": "code",
   "execution_count": 17,
   "metadata": {},
   "outputs": [
    {
     "data": {
      "text/plain": [
       "<dspy.datasets.hotpotqa.HotPotQA at 0x22bb9854140>"
      ]
     },
     "execution_count": 17,
     "metadata": {},
     "output_type": "execute_result"
    }
   ],
   "source": [
    "from dspy.datasets import HotPotQA\n",
    "\n",
    "hqpa = HotPotQA(\n",
    "    train_seed=1, \n",
    "    train_size=20, \n",
    "    eval_seed=2, \n",
    "    dev_size=5, \n",
    "    test_size=0\n",
    ")\n",
    "\n",
    "hqpa"
   ]
  },
  {
   "cell_type": "code",
   "execution_count": 19,
   "metadata": {},
   "outputs": [
    {
     "data": {
      "text/html": [
       "<pre style=\"white-space:pre;overflow-x:auto;line-height:normal;font-family:Menlo,'DejaVu Sans Mono',consolas,'Courier New',monospace\"><span style=\"color: #800080; text-decoration-color: #800080; font-weight: bold\">Example</span><span style=\"font-weight: bold\">({</span><span style=\"color: #008000; text-decoration-color: #008000\">'question'</span>: <span style=\"color: #008000; text-decoration-color: #008000\">'At My Window was released by which American singer-songwriter?'</span>, <span style=\"color: #008000; text-decoration-color: #008000\">'answer'</span>: <span style=\"color: #008000; text-decoration-color: #008000\">'John Townes Van </span>\n",
       "<span style=\"color: #008000; text-decoration-color: #008000\">Zandt'</span><span style=\"font-weight: bold\">})</span> <span style=\"font-weight: bold\">(</span><span style=\"color: #808000; text-decoration-color: #808000\">input_keys</span>=<span style=\"color: #800080; text-decoration-color: #800080; font-style: italic\">None</span><span style=\"font-weight: bold\">)</span>\n",
       "</pre>\n"
      ],
      "text/plain": [
       "\u001b[1;35mExample\u001b[0m\u001b[1m(\u001b[0m\u001b[1m{\u001b[0m\u001b[32m'question'\u001b[0m: \u001b[32m'At My Window was released by which American singer-songwriter?'\u001b[0m, \u001b[32m'answer'\u001b[0m: \u001b[32m'John Townes Van \u001b[0m\n",
       "\u001b[32mZandt'\u001b[0m\u001b[1m}\u001b[0m\u001b[1m)\u001b[0m \u001b[1m(\u001b[0m\u001b[33minput_keys\u001b[0m=\u001b[3;35mNone\u001b[0m\u001b[1m)\u001b[0m\n"
      ]
     },
     "metadata": {},
     "output_type": "display_data"
    }
   ],
   "source": [
    "rprint(hqpa.train[0])"
   ]
  },
  {
   "cell_type": "markdown",
   "metadata": {},
   "source": [
    "### Metrics"
   ]
  },
  {
   "cell_type": "code",
   "execution_count": 20,
   "metadata": {},
   "outputs": [],
   "source": [
    "from dspy.evaluate import (\n",
    "    answer_passage_match,\n",
    "    answer_exact_match,\n",
    "    answer_exact_match_str,\n",
    ")\n",
    "\n",
    "import dspy"
   ]
  },
  {
   "cell_type": "code",
   "execution_count": 21,
   "metadata": {},
   "outputs": [],
   "source": [
    "def validate_answer(example, pred, trace=None):\n",
    "    return example.answer.lower() == pred.answer.lower()\n",
    "\n",
    "def validate_context_and_answer(example, pred, contexts, trace = None):\n",
    "    answer_match = example.answer.lower() == pred.answer.lower()\n",
    "    \n",
    "    context_match = any((pred.answer.lower() in c) for c in contexts)\n",
    "    \n",
    "    if trace is None:\n",
    "        return (answer_match + context_match) / 2.0\n",
    "    else:\n",
    "        return answer_match and context_match"
   ]
  },
  {
   "cell_type": "code",
   "execution_count": 22,
   "metadata": {},
   "outputs": [
    {
     "data": {
      "text/html": [
       "<pre style=\"white-space:pre;overflow-x:auto;line-height:normal;font-family:Menlo,'DejaVu Sans Mono',consolas,'Courier New',monospace\"><span style=\"color: #800080; text-decoration-color: #800080; font-weight: bold\">Predict</span><span style=\"font-weight: bold\">(</span><span style=\"color: #800080; text-decoration-color: #800080; font-weight: bold\">StringSignature</span><span style=\"font-weight: bold\">(</span>question -&gt; answer\n",
       "    <span style=\"color: #808000; text-decoration-color: #808000\">instructions</span>=<span style=\"color: #008000; text-decoration-color: #008000\">'Given the fields `question`, produce the fields `answer`.'</span>\n",
       "    question = <span style=\"color: #800080; text-decoration-color: #800080; font-weight: bold\">Field</span><span style=\"font-weight: bold\">(</span><span style=\"color: #808000; text-decoration-color: #808000\">annotation</span>=<span style=\"color: #800080; text-decoration-color: #800080\">str</span> <span style=\"color: #808000; text-decoration-color: #808000\">required</span>=<span style=\"color: #00ff00; text-decoration-color: #00ff00; font-style: italic\">True</span> <span style=\"color: #808000; text-decoration-color: #808000\">json_schema_extra</span>=<span style=\"font-weight: bold\">{</span><span style=\"color: #008000; text-decoration-color: #008000\">'__dspy_field_type'</span>: <span style=\"color: #008000; text-decoration-color: #008000\">'input'</span>, <span style=\"color: #008000; text-decoration-color: #008000\">'prefix'</span>: \n",
       "<span style=\"color: #008000; text-decoration-color: #008000\">'Question:'</span>, <span style=\"color: #008000; text-decoration-color: #008000\">'desc'</span>: <span style=\"color: #008000; text-decoration-color: #008000\">'${question}'</span><span style=\"font-weight: bold\">})</span>\n",
       "    answer = <span style=\"color: #800080; text-decoration-color: #800080; font-weight: bold\">Field</span><span style=\"font-weight: bold\">(</span><span style=\"color: #808000; text-decoration-color: #808000\">annotation</span>=<span style=\"color: #800080; text-decoration-color: #800080\">str</span> <span style=\"color: #808000; text-decoration-color: #808000\">required</span>=<span style=\"color: #00ff00; text-decoration-color: #00ff00; font-style: italic\">True</span> <span style=\"color: #808000; text-decoration-color: #808000\">json_schema_extra</span>=<span style=\"font-weight: bold\">{</span><span style=\"color: #008000; text-decoration-color: #008000\">'__dspy_field_type'</span>: <span style=\"color: #008000; text-decoration-color: #008000\">'output'</span>, <span style=\"color: #008000; text-decoration-color: #008000\">'prefix'</span>: \n",
       "<span style=\"color: #008000; text-decoration-color: #008000\">'Answer:'</span>, <span style=\"color: #008000; text-decoration-color: #008000\">'desc'</span>: <span style=\"color: #008000; text-decoration-color: #008000\">'${answer}'</span><span style=\"font-weight: bold\">})</span>\n",
       "<span style=\"font-weight: bold\">))</span>\n",
       "</pre>\n"
      ],
      "text/plain": [
       "\u001b[1;35mPredict\u001b[0m\u001b[1m(\u001b[0m\u001b[1;35mStringSignature\u001b[0m\u001b[1m(\u001b[0mquestion -> answer\n",
       "    \u001b[33minstructions\u001b[0m=\u001b[32m'Given the fields `question`, produce the fields `answer`.'\u001b[0m\n",
       "    question = \u001b[1;35mField\u001b[0m\u001b[1m(\u001b[0m\u001b[33mannotation\u001b[0m=\u001b[35mstr\u001b[0m \u001b[33mrequired\u001b[0m=\u001b[3;92mTrue\u001b[0m \u001b[33mjson_schema_extra\u001b[0m=\u001b[1m{\u001b[0m\u001b[32m'__dspy_field_type'\u001b[0m: \u001b[32m'input'\u001b[0m, \u001b[32m'prefix'\u001b[0m: \n",
       "\u001b[32m'Question:'\u001b[0m, \u001b[32m'desc'\u001b[0m: \u001b[32m'$\u001b[0m\u001b[32m{\u001b[0m\u001b[32mquestion\u001b[0m\u001b[32m}\u001b[0m\u001b[32m'\u001b[0m\u001b[1m}\u001b[0m\u001b[1m)\u001b[0m\n",
       "    answer = \u001b[1;35mField\u001b[0m\u001b[1m(\u001b[0m\u001b[33mannotation\u001b[0m=\u001b[35mstr\u001b[0m \u001b[33mrequired\u001b[0m=\u001b[3;92mTrue\u001b[0m \u001b[33mjson_schema_extra\u001b[0m=\u001b[1m{\u001b[0m\u001b[32m'__dspy_field_type'\u001b[0m: \u001b[32m'output'\u001b[0m, \u001b[32m'prefix'\u001b[0m: \n",
       "\u001b[32m'Answer:'\u001b[0m, \u001b[32m'desc'\u001b[0m: \u001b[32m'$\u001b[0m\u001b[32m{\u001b[0m\u001b[32manswer\u001b[0m\u001b[32m}\u001b[0m\u001b[32m'\u001b[0m\u001b[1m}\u001b[0m\u001b[1m)\u001b[0m\n",
       "\u001b[1m)\u001b[0m\u001b[1m)\u001b[0m\n"
      ]
     },
     "metadata": {},
     "output_type": "display_data"
    },
    {
     "name": "stdout",
     "output_type": "stream",
     "text": [
      "-----------------------------------------------\n"
     ]
    },
    {
     "data": {
      "text/html": [
       "<pre style=\"white-space:pre;overflow-x:auto;line-height:normal;font-family:Menlo,'DejaVu Sans Mono',consolas,'Courier New',monospace\"><span style=\"color: #800080; text-decoration-color: #800080; font-weight: bold\">Predict</span><span style=\"font-weight: bold\">(</span><span style=\"color: #800080; text-decoration-color: #800080; font-weight: bold\">Assess</span><span style=\"font-weight: bold\">(</span>asssessed_text, asssessed_question -&gt; asssessed_answer\n",
       "    <span style=\"color: #808000; text-decoration-color: #808000\">instructions</span>=<span style=\"color: #008000; text-decoration-color: #008000\">'Assess the quality of a tweet along with specified dimension '</span>\n",
       "    asssessed_text = <span style=\"color: #800080; text-decoration-color: #800080; font-weight: bold\">Field</span><span style=\"font-weight: bold\">(</span><span style=\"color: #808000; text-decoration-color: #808000\">annotation</span>=<span style=\"color: #800080; text-decoration-color: #800080\">str</span> <span style=\"color: #808000; text-decoration-color: #808000\">required</span>=<span style=\"color: #00ff00; text-decoration-color: #00ff00; font-style: italic\">True</span> <span style=\"color: #808000; text-decoration-color: #808000\">json_schema_extra</span>=<span style=\"font-weight: bold\">{</span><span style=\"color: #008000; text-decoration-color: #008000\">'__dspy_field_type'</span>: <span style=\"color: #008000; text-decoration-color: #008000\">'input'</span>, <span style=\"color: #008000; text-decoration-color: #008000\">'prefix'</span>: \n",
       "<span style=\"color: #008000; text-decoration-color: #008000\">'Asssessed Text:'</span>, <span style=\"color: #008000; text-decoration-color: #008000\">'desc'</span>: <span style=\"color: #008000; text-decoration-color: #008000\">'${asssessed_text}'</span><span style=\"font-weight: bold\">})</span>\n",
       "    asssessed_question = <span style=\"color: #800080; text-decoration-color: #800080; font-weight: bold\">Field</span><span style=\"font-weight: bold\">(</span><span style=\"color: #808000; text-decoration-color: #808000\">annotation</span>=<span style=\"color: #800080; text-decoration-color: #800080\">str</span> <span style=\"color: #808000; text-decoration-color: #808000\">required</span>=<span style=\"color: #00ff00; text-decoration-color: #00ff00; font-style: italic\">True</span> <span style=\"color: #808000; text-decoration-color: #808000\">json_schema_extra</span>=<span style=\"font-weight: bold\">{</span><span style=\"color: #008000; text-decoration-color: #008000\">'__dspy_field_type'</span>: <span style=\"color: #008000; text-decoration-color: #008000\">'input'</span>, \n",
       "<span style=\"color: #008000; text-decoration-color: #008000\">'prefix'</span>: <span style=\"color: #008000; text-decoration-color: #008000\">'Asssessed Question:'</span>, <span style=\"color: #008000; text-decoration-color: #008000\">'desc'</span>: <span style=\"color: #008000; text-decoration-color: #008000\">'${asssessed_question}'</span><span style=\"font-weight: bold\">})</span>\n",
       "    asssessed_answer = <span style=\"color: #800080; text-decoration-color: #800080; font-weight: bold\">Field</span><span style=\"font-weight: bold\">(</span><span style=\"color: #808000; text-decoration-color: #808000\">annotation</span>=<span style=\"color: #800080; text-decoration-color: #800080\">str</span> <span style=\"color: #808000; text-decoration-color: #808000\">required</span>=<span style=\"color: #00ff00; text-decoration-color: #00ff00; font-style: italic\">True</span> <span style=\"color: #808000; text-decoration-color: #808000\">json_schema_extra</span>=<span style=\"font-weight: bold\">{</span><span style=\"color: #008000; text-decoration-color: #008000\">'desc'</span>: <span style=\"color: #008000; text-decoration-color: #008000\">'Yes or No'</span>, \n",
       "<span style=\"color: #008000; text-decoration-color: #008000\">'__dspy_field_type'</span>: <span style=\"color: #008000; text-decoration-color: #008000\">'output'</span>, <span style=\"color: #008000; text-decoration-color: #008000\">'prefix'</span>: <span style=\"color: #008000; text-decoration-color: #008000\">'Asssessed Answer:'</span><span style=\"font-weight: bold\">})</span>\n",
       "<span style=\"font-weight: bold\">))</span>\n",
       "</pre>\n"
      ],
      "text/plain": [
       "\u001b[1;35mPredict\u001b[0m\u001b[1m(\u001b[0m\u001b[1;35mAssess\u001b[0m\u001b[1m(\u001b[0masssessed_text, asssessed_question -> asssessed_answer\n",
       "    \u001b[33minstructions\u001b[0m=\u001b[32m'Assess the quality of a tweet along with specified dimension '\u001b[0m\n",
       "    asssessed_text = \u001b[1;35mField\u001b[0m\u001b[1m(\u001b[0m\u001b[33mannotation\u001b[0m=\u001b[35mstr\u001b[0m \u001b[33mrequired\u001b[0m=\u001b[3;92mTrue\u001b[0m \u001b[33mjson_schema_extra\u001b[0m=\u001b[1m{\u001b[0m\u001b[32m'__dspy_field_type'\u001b[0m: \u001b[32m'input'\u001b[0m, \u001b[32m'prefix'\u001b[0m: \n",
       "\u001b[32m'Asssessed Text:'\u001b[0m, \u001b[32m'desc'\u001b[0m: \u001b[32m'$\u001b[0m\u001b[32m{\u001b[0m\u001b[32masssessed_text\u001b[0m\u001b[32m}\u001b[0m\u001b[32m'\u001b[0m\u001b[1m}\u001b[0m\u001b[1m)\u001b[0m\n",
       "    asssessed_question = \u001b[1;35mField\u001b[0m\u001b[1m(\u001b[0m\u001b[33mannotation\u001b[0m=\u001b[35mstr\u001b[0m \u001b[33mrequired\u001b[0m=\u001b[3;92mTrue\u001b[0m \u001b[33mjson_schema_extra\u001b[0m=\u001b[1m{\u001b[0m\u001b[32m'__dspy_field_type'\u001b[0m: \u001b[32m'input'\u001b[0m, \n",
       "\u001b[32m'prefix'\u001b[0m: \u001b[32m'Asssessed Question:'\u001b[0m, \u001b[32m'desc'\u001b[0m: \u001b[32m'$\u001b[0m\u001b[32m{\u001b[0m\u001b[32masssessed_question\u001b[0m\u001b[32m}\u001b[0m\u001b[32m'\u001b[0m\u001b[1m}\u001b[0m\u001b[1m)\u001b[0m\n",
       "    asssessed_answer = \u001b[1;35mField\u001b[0m\u001b[1m(\u001b[0m\u001b[33mannotation\u001b[0m=\u001b[35mstr\u001b[0m \u001b[33mrequired\u001b[0m=\u001b[3;92mTrue\u001b[0m \u001b[33mjson_schema_extra\u001b[0m=\u001b[1m{\u001b[0m\u001b[32m'desc'\u001b[0m: \u001b[32m'Yes or No'\u001b[0m, \n",
       "\u001b[32m'__dspy_field_type'\u001b[0m: \u001b[32m'output'\u001b[0m, \u001b[32m'prefix'\u001b[0m: \u001b[32m'Asssessed Answer:'\u001b[0m\u001b[1m}\u001b[0m\u001b[1m)\u001b[0m\n",
       "\u001b[1m)\u001b[0m\u001b[1m)\u001b[0m\n"
      ]
     },
     "metadata": {},
     "output_type": "display_data"
    }
   ],
   "source": [
    "class Assess(dspy.Signature):\n",
    "    \"\"\" Assess the quality of a tweet along with specified dimension \"\"\"\n",
    "    \n",
    "    asssessed_text = dspy.InputField()\n",
    "    asssessed_question = dspy.InputField()\n",
    "    asssessed_answer = dspy.OutputField(desc = \"Yes or No\")\n",
    "    \n",
    "turbo = dspy.OpenAI(model=\"gpt-3.5-turbo\", max_tokens=512, model_type='chat')\n",
    "\n",
    "dspy.settings.configure(lm=turbo)\n",
    "\n",
    "response = dspy.Predict(\"question -> answer\")\n",
    "assess_res = dspy.Predict(Assess)\n",
    "\n",
    "rprint(response)\n",
    "\n",
    "print('-----------------------------------------------')\n",
    "\n",
    "rprint(assess_res)"
   ]
  },
  {
   "cell_type": "code",
   "execution_count": 23,
   "metadata": {},
   "outputs": [],
   "source": [
    "def metric(gold, pred, trace = None):\n",
    "    question, answer, gen_answer = gold.question, gold.answer, pred.answer\n",
    "    \n",
    "    engaging = \"Is the assessed text self-contained, information\"\n",
    "    correct = f\"The text should answer '{question}' with '{answer}'.Does the assessed text contain this answer?\"\n",
    "    \n",
    "    with dspy.context(lm=turbo):\n",
    "        correct = assess_pred(\n",
    "            assess_text=gen_answer, \n",
    "            assess_question=correct\n",
    "        )\n",
    "        engaging = assess_pred(\n",
    "            assess_text=gen_answer,\n",
    "            assess_question=engaging\n",
    "        )\n",
    "    \n",
    "    correct, engaging = [m.assessment_answer.lower() == 'yes' for m in [correct, engaging]]\n",
    "    \n",
    "    score = (score + engaging) if correct and (len(gen_answer) <= 200) else 0\n",
    "    \n",
    "    if trace is not None: \n",
    "        return score >= 2\n",
    "    \n",
    "    return score / 2.0\n",
    "    \n",
    "    "
   ]
  },
  {
   "cell_type": "code",
   "execution_count": null,
   "metadata": {},
   "outputs": [],
   "source": []
  },
  {
   "cell_type": "code",
   "execution_count": null,
   "metadata": {},
   "outputs": [],
   "source": []
  }
 ],
 "metadata": {
  "kernelspec": {
   "display_name": "venv",
   "language": "python",
   "name": "python3"
  },
  "language_info": {
   "codemirror_mode": {
    "name": "ipython",
    "version": 3
   },
   "file_extension": ".py",
   "mimetype": "text/x-python",
   "name": "python",
   "nbconvert_exporter": "python",
   "pygments_lexer": "ipython3",
   "version": "3.12.3"
  }
 },
 "nbformat": 4,
 "nbformat_minor": 2
}
