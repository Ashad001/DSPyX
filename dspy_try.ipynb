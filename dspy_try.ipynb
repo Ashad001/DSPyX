{
 "cells": [
  {
   "cell_type": "code",
   "execution_count": 36,
   "metadata": {},
   "outputs": [],
   "source": [
    "import os\n",
    "import sys\n",
    "import dspy\n",
    "\n",
    "nb_dir = os.path.split(os.getcwd())[0]\n",
    "if nb_dir not in sys.path:\n",
    "    sys.path.append(nb_dir)\n"
   ]
  },
  {
   "cell_type": "code",
   "execution_count": 51,
   "metadata": {},
   "outputs": [],
   "source": [
    "import duckdb\n",
    "from functools import wraps\n",
    "from datetime import datetime\n",
    "\n",
    "DB_PATH = \"logs.db\"\n",
    "\n",
    "def initialize_db():\n",
    "    conn = duckdb.connect(DB_PATH)\n",
    "    conn.execute(\"\"\"\n",
    "    CREATE TABLE IF NOT EXISTS logs (\n",
    "        id BIGINT,\n",
    "        timestamp TIMESTAMP,\n",
    "        user_query TEXT,\n",
    "        generated_response TEXT\n",
    "    )\n",
    "    \"\"\")\n",
    "    conn.close()\n",
    "\n",
    "initialize_db()"
   ]
  },
  {
   "cell_type": "code",
   "execution_count": 52,
   "metadata": {},
   "outputs": [],
   "source": [
    "def log_conversation_to_db(func):\n",
    "    @wraps(func)\n",
    "    def wrapper(*args, **kwargs):\n",
    "        result = func(*args, **kwargs)\n",
    "        \n",
    "        user_query = kwargs.get('user_query', args[0] if args else None)\n",
    "        generated_response = result\n",
    "        \n",
    "        timestamp = datetime.now().strftime(\"%Y-%m-%d %H:%M:%S\")\n",
    "        conn = duckdb.connect(DB_PATH)\n",
    "        conn.execute(\"\"\"\n",
    "            INSERT INTO logs (timestamp, user_query, generated_response)\n",
    "            VALUES (?, ?, ?)\n",
    "        \"\"\", (timestamp, user_query, generated_response))\n",
    "        \n",
    "        print(\" =^=^= Conversation logged successfully. =^=^=\")        \n",
    "        conn.close()\n",
    "        return result\n",
    "    return wrapper"
   ]
  },
  {
   "cell_type": "code",
   "execution_count": 53,
   "metadata": {},
   "outputs": [],
   "source": [
    "from dotenv import load_dotenv\n",
    "load_dotenv()\n",
    "\n",
    "groq_api_key = os.environ[\"GROQ_API_KEY\"]\n",
    "openai_api_key = os.environ[\"OPENAI_API_KEY\"]"
   ]
  },
  {
   "cell_type": "code",
   "execution_count": 54,
   "metadata": {},
   "outputs": [],
   "source": [
    "mix = dspy.GROQ(model=\"mixtral-8x7b-32768\", api_key=groq_api_key)\n",
    "openai = dspy.OpenAI(model=\"gpt-4o-mini\", api_key=openai_api_key)\n",
    "dspy.settings.configure(lm=mix)"
   ]
  },
  {
   "cell_type": "code",
   "execution_count": 11,
   "metadata": {},
   "outputs": [
    {
     "name": "stdout",
     "output_type": "stream",
     "text": [
      "Question: Sarah has 5 apples. She buys 7 more apples from the store. How many apples does Sarah have now?\n",
      "Final Predicted Answer (after ProgramOfThought process): 12\n"
     ]
    }
   ],
   "source": [
    "class GenerateAnswer(dspy.Signature):\n",
    "    \"\"\"Answer questions with short factual answers.\"\"\"\n",
    "    question = dspy.InputField()\n",
    "    answer = dspy.OutputField(desc=\"often between 1 and 5 words\")\n",
    "\n",
    "pot = dspy.ProgramOfThought(GenerateAnswer)\n",
    "\n",
    "question = 'Sarah has 5 apples. She buys 7 more apples from the store. How many apples does Sarah have now?'\n",
    "result = pot(question=question)\n",
    "\n",
    "print(f\"Question: {question}\")\n",
    "print(f\"Final Predicted Answer (after ProgramOfThought process): {result.answer}\")"
   ]
  },
  {
   "cell_type": "code",
   "execution_count": 48,
   "metadata": {},
   "outputs": [
    {
     "data": {
      "text/markdown": [
       "1. Skills to Develop:\n",
       "   - Deep Learning Frameworks: Familiarize yourself with deep learning frameworks such as TensorFlow, PyTorch, and Keras. These tools are essential for building and training AI models.\n",
       "   - Machine Learning Algorithms: Strengthen your understanding of machine learning algorithms, including supervised, unsupervised, and reinforcement learning techniques.\n",
       "   - Data Manipulation and Analysis: Improve your skills in data preprocessing, cleaning, and analysis using libraries like Pandas, NumPy, and"
      ]
     },
     "metadata": {},
     "output_type": "display_data"
    }
   ],
   "source": [
    "import IPython.display as display_module\n",
    "\n",
    "class CareerGuider(dspy.Signature):\n",
    "    \"\"\"\n",
    "    Provide career guidance based on the user's input.\n",
    "    Offer advice on career transitions, required skills, and industry trends.\n",
    "    Make sure the guidance is personalized and actionable.\n",
    "    \"\"\"\n",
    "\n",
    "    user_query = dspy.InputField(desc=\"The user's question about their career path or job opportunities.\")\n",
    "    result = dspy.OutputField(desc=\"Career guidance based on the user's query.\")\n",
    "\n",
    "guide_career = dspy.ChainOfThought(CareerGuider)\n",
    "\n",
    "query = \"\"\"Provide career guidance for someone interested in transitioning into AI from a software engineering background.\n",
    "Include recommended skills, industry trends, and potential career paths.\n",
    "Guidance should be insightful, coherent, and practical for someone with 3-5 years of experience.\"\"\"\n",
    "\n",
    "career_guidance = guide_career(user_query=query)\n",
    "\n",
    "display_module.display_markdown(career_guidance.result, raw=True)"
   ]
  },
  {
   "cell_type": "code",
   "execution_count": 55,
   "metadata": {},
   "outputs": [],
   "source": [
    "@log_conversation_to_db\n",
    "def get_result(user_query):\n",
    "    return guide_career(user_query=query).result"
   ]
  },
  {
   "cell_type": "code",
   "execution_count": 56,
   "metadata": {},
   "outputs": [
    {
     "name": "stdout",
     "output_type": "stream",
     "text": [
      " =^=^= Conversation logged successfully. =^=^=\n",
      "1. Skills to Develop:\n",
      "   - Deep Learning Frameworks: Familiarize yourself with deep learning frameworks such as TensorFlow, PyTorch, and Keras. These tools are essential for building and training AI models.\n",
      "   - Machine Learning Algorithms: Strengthen your understanding of machine learning algorithms, including supervised, unsupervised, and reinforcement learning techniques.\n",
      "   - Data Manipulation and Analysis: Improve your skills in data preprocessing, cleaning, and analysis using libraries like Pandas, NumPy, and\n"
     ]
    }
   ],
   "source": [
    "response = get_result(user_query=query)\n",
    "print(response)"
   ]
  },
  {
   "cell_type": "code",
   "execution_count": null,
   "metadata": {},
   "outputs": [],
   "source": []
  }
 ],
 "metadata": {
  "kernelspec": {
   "display_name": "venv",
   "language": "python",
   "name": "python3"
  },
  "language_info": {
   "codemirror_mode": {
    "name": "ipython",
    "version": 3
   },
   "file_extension": ".py",
   "mimetype": "text/x-python",
   "name": "python",
   "nbconvert_exporter": "python",
   "pygments_lexer": "ipython3",
   "version": "3.12.3"
  }
 },
 "nbformat": 4,
 "nbformat_minor": 2
}
